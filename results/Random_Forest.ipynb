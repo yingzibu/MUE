{
  "cells": [
    {
      "cell_type": "markdown",
      "metadata": {
        "id": "view-in-github",
        "colab_type": "text"
      },
      "source": [
        "<a href=\"https://colab.research.google.com/github/yingzibu/MUE/blob/main/results/Random_Forest.ipynb\" target=\"_parent\"><img src=\"https://colab.research.google.com/assets/colab-badge.svg\" alt=\"Open In Colab\"/></a>"
      ]
    },
    {
      "cell_type": "code",
      "execution_count": null,
      "metadata": {
        "colab": {
          "base_uri": "https://localhost:8080/"
        },
        "id": "evBHL7Ir5ioX",
        "outputId": "5fa4fb0c-bbf6-47ce-fe85-7cdcc6c5c051"
      },
      "outputs": [
        {
          "output_type": "stream",
          "name": "stdout",
          "text": [
            "\u001b[2K     \u001b[90m━━━━━━━━━━━━━━━━━━━━━━━━━━━━━━━━━━━━━━━━\u001b[0m \u001b[32m34.4/34.4 MB\u001b[0m \u001b[31m20.6 MB/s\u001b[0m eta \u001b[36m0:00:00\u001b[0m\n",
            "\u001b[2K     \u001b[90m━━━━━━━━━━━━━━━━━━━━━━━━━━━━━━━━━━━━━━━━\u001b[0m \u001b[32m107.7/107.7 kB\u001b[0m \u001b[31m2.2 MB/s\u001b[0m eta \u001b[36m0:00:00\u001b[0m\n",
            "\u001b[?25h  Preparing metadata (setup.py) ... \u001b[?25l\u001b[?25hdone\n",
            "\u001b[2K     \u001b[90m━━━━━━━━━━━━━━━━━━━━━━━━━━━━━━━━━━━━━━━━\u001b[0m \u001b[32m29.4/29.4 MB\u001b[0m \u001b[31m29.8 MB/s\u001b[0m eta \u001b[36m0:00:00\u001b[0m\n",
            "\u001b[?25h  Building wheel for PyTDC (setup.py) ... \u001b[?25l\u001b[?25hdone\n",
            "  Preparing metadata (setup.py) ... \u001b[?25l\u001b[?25hdone\n",
            "  Building wheel for mycolorpy (setup.py) ... \u001b[?25l\u001b[?25hdone\n"
          ]
        }
      ],
      "source": [
        "! pip install rdkit --quiet\n",
        "! pip install selfies --quiet\n",
        "! pip install PyTDC --quiet\n",
        "! pip install mycolorpy --quiet\n"
      ]
    },
    {
      "cell_type": "markdown",
      "metadata": {
        "id": "MYoMv1zQ5lx1"
      },
      "source": [
        "# Random Forest as Baseline"
      ]
    },
    {
      "cell_type": "code",
      "execution_count": null,
      "metadata": {
        "colab": {
          "base_uri": "https://localhost:8080/"
        },
        "id": "OlLMrbOm5Wgy",
        "outputId": "6b5eb831-7bea-4767-d426-85d4c709f507"
      },
      "outputs": [
        {
          "output_type": "stream",
          "name": "stdout",
          "text": [
            "/content/drive/MyDrive/ADMET\n"
          ]
        }
      ],
      "source": [
        "cd /content/drive/MyDrive/ADMET"
      ]
    },
    {
      "cell_type": "code",
      "source": [],
      "metadata": {
        "id": "QbEivRTB-vGh"
      },
      "execution_count": null,
      "outputs": []
    },
    {
      "cell_type": "code",
      "execution_count": null,
      "metadata": {
        "id": "qTUQbbCz5kwK"
      },
      "outputs": [],
      "source": [
        "import plotly.figure_factory as ff\n",
        "import numpy as np\n",
        "import matplotlib.pyplot as plt\n",
        "from scripts.preprocess_mols import *\n",
        "from scripts.CONSTANT import *\n",
        "from scripts.eval_utils import *\n",
        "from rdkit import Chem\n",
        "from rdkit.Chem.MACCSkeys import GenMACCSKeys\n",
        "\n",
        "m = Chem.MolFromSmiles\n",
        "header = ['bit' + str(i) for i in range(167)]\n",
        "MASK = -100\n",
        "\n",
        "def smile_list_to_MACCS(smi_list:list):\n",
        "    MACCS_list = []\n",
        "    for smi in smi_list:\n",
        "        maccs = [float(i) for i in list(GenMACCSKeys(m(smi)).ToBitString())]\n",
        "        MACCS_list.append(maccs)\n",
        "    return MACCS_list\n",
        "\n",
        "def process(data_, ver=True):\n",
        "    data = data_.copy()\n",
        "    # data = convert_with_qed_sa(data)\n",
        "    if ver: print('---> converting SMILES to MACCS...')\n",
        "    MACCS_list = smile_list_to_MACCS(data['Drug'].tolist())\n",
        "    data[header] = pd.DataFrame(MACCS_list)\n",
        "    if ver: print('---> FINISHED')\n",
        "    return data\n",
        "\n",
        "# radius = 2 : morgan ECFP4\n",
        "# radius = 3 : ECFP6\n",
        "def smile_list_to_MORGAN(smi_list, morgan_fp_len=MORGAN_LEN, radius=RADIUS):\n",
        "    import rdkit\n",
        "    from rdkit import Chem\n",
        "    from tqdm import tqdm\n",
        "    from rdkit.Chem.AllChem import GetMorganFingerprintAsBitVect as MorganFP\n",
        "    MORGAN_list = []\n",
        "    for smi in tqdm(smi_list, total=len(smi_list)):\n",
        "        mol = m(smi)\n",
        "        morgan = [float(i) for i in list(MorganFP(m(smi), useChirality=True,\n",
        "                                        radius=radius, nBits=morgan_fp_len))]\n",
        "\n",
        "        MORGAN_list.append(morgan)\n",
        "    return MORGAN_list\n",
        "\n",
        "def process_Morgan(data_, header=header_MORGAN, ver=True):\n",
        "    data = data_.copy()\n",
        "    if ver: print('---> converting SMILES to Morgan FP...')\n",
        "    l = smile_list_to_MORGAN(data['Drug'].tolist())\n",
        "    len_here = len(l[0])\n",
        "    assert len_here == len(header)\n",
        "    data[header] = pd.DataFrame(l)\n",
        "    if ver: print('---> FINISHED')\n",
        "\n",
        "    return data"
      ]
    },
    {
      "cell_type": "code",
      "execution_count": null,
      "metadata": {
        "id": "jL3N2g7Q7IrX"
      },
      "outputs": [],
      "source": [
        "from sklearn.ensemble import RandomForestClassifier as RFC\n",
        "from sklearn.ensemble import RandomForestRegressor as RFR\n",
        "from scripts.yaml_utils import *\n",
        "import pickle\n",
        "def train_RF(name, metric_num, ver=True, repeat_time=1, save_path=None):\n",
        "    IS_R = names_dict[name]\n",
        "    if IS_R: metric_name = reg_metrics[metric_num]\n",
        "    else: metric_name = cls_metrics[metric_num]\n",
        "\n",
        "    trn, val, tst = collect_data(name)\n",
        "    trn = process(trn, ver); val = process(val, ver); tst = process(tst, ver)\n",
        "\n",
        "    trn_x = trn[header]; trn_y = trn[name]\n",
        "    val_x = val[header]; val_y = val[name]\n",
        "\n",
        "    AP_results = []\n",
        "    estimators = []\n",
        "    best_param = 0\n",
        "    max_value = 0\n",
        "\n",
        "    if ver: print(f'Finding best param (n_estimators) for RF on {name}: \\n')\n",
        "    for n in range(1, 12):\n",
        "        n_estimators = 50 * n\n",
        "        if IS_R: model = RFR(n_estimators=n_estimators)\n",
        "        else:    model = RFC(n_estimators=n_estimators)\n",
        "        model.fit(trn_x, trn_y)\n",
        "        val_pred = model.predict(val_x)\n",
        "        if IS_R == False: val_prob = model.predict_proba(val_x)\n",
        "        if ver: print(f'Estimators: {n_estimators}')\n",
        "\n",
        "        if IS_R == False: results = evaluate(val_y, val_pred, val_prob, ver=ver)\n",
        "        else: results = reg_evaluate(val_y, val_pred,ver=ver)\n",
        "        estimators.append(n_estimators)\n",
        "        AP_results.append(results[metric_num])\n",
        "        if results[metric_num] > max_value:\n",
        "            best_param = n_estimators\n",
        "            max_value = results[metric_num]\n",
        "        if ver: print('\\n')\n",
        "\n",
        "    if ver:\n",
        "        plt.plot(estimators, AP_results)\n",
        "        # plt.axhline(y = 0.5, color = 'r', linestyle = '-')\n",
        "        plt.xlabel('n estimators')\n",
        "        plt.ylabel(metric_name)\n",
        "        plt.title(f'{name}, RF on Validation set')\n",
        "        plt.show(); plt.close()\n",
        "    perfs = []\n",
        "    for i in range(repeat_time):\n",
        "        if IS_R: model = RFR(n_estimators=best_param)\n",
        "        else:    model = RFC(n_estimators=best_param)\n",
        "        model.fit(trn_x, trn_y)\n",
        "        tst_x = tst[header]; tst_y = tst[name]\n",
        "        tst_pred = model.predict(tst_x)\n",
        "        if IS_R == False: tst_prob = model.predict_proba(tst_x)\n",
        "        if ver: print(f'best Estimators: {best_param}')\n",
        "        if IS_R: results = reg_evaluate(tst_y, tst_pred, ver=ver)\n",
        "        else: results = evaluate(tst_y, tst_pred, tst_prob, ver=ver)\n",
        "\n",
        "\n",
        "        p = {name: results}\n",
        "        perfs.append(p)\n",
        "    if save_path != None:\n",
        "        with open(f'{save_path}/{name}.pkl', 'wb') as fp:\n",
        "            pickle.dump(perfs, fp)\n",
        "        if ver: print(f'RF on {name} saved: {save_path}/{name}.pkl')\n",
        "    return perfs"
      ]
    },
    {
      "cell_type": "code",
      "execution_count": null,
      "metadata": {
        "id": "ZvEM1zi84O4H"
      },
      "outputs": [],
      "source": [
        "# name = 'Caco2_Wang'\n",
        "ver = True\n",
        "metric_num = -1 #\n",
        "repeat_time = 3\n",
        "save_path = 'RF'\n",
        "perfs = train_RF(name, metric_num, ver, repeat_time, save_path)\n",
        "eval_perf_list(perfs, name, {'reg': [0,2,3,4,5], 'cls':[0, 1, 6, 8]})\n"
      ]
    },
    {
      "cell_type": "code",
      "execution_count": null,
      "metadata": {
        "colab": {
          "background_save": true,
          "base_uri": "https://localhost:8080/"
        },
        "id": "GNDMxiC67jPM",
        "outputId": "45475dac-1156-48d2-c280-248c5d83ab87"
      },
      "outputs": [
        {
          "name": "stderr",
          "output_type": "stream",
          "text": [
            "Found local copy...\n",
            "Loading...\n",
            "Done!\n"
          ]
        },
        {
          "name": "stdout",
          "output_type": "stream",
          "text": [
            "collect data for:  ['Caco2_Wang']\n"
          ]
        },
        {
          "name": "stderr",
          "output_type": "stream",
          "text": [
            "Found local copy...\n",
            "Loading...\n"
          ]
        },
        {
          "name": "stdout",
          "output_type": "stream",
          "text": [
            "******************** Caco2_Wang ******************** \n",
            "\t|       mae      |       rmse      |       r2      |       pcc      |       spearman      \n",
            "\t&0.340$\\pm$0.001  &0.447$\\pm$0.001  &0.686$\\pm$0.002  &0.830$\\pm$0.001  &0.796$\\pm$0.001  collect data for:  ['Lipophilicity_AstraZeneca']\n"
          ]
        },
        {
          "name": "stderr",
          "output_type": "stream",
          "text": [
            "Done!\n",
            "Found local copy...\n",
            "Loading...\n"
          ]
        },
        {
          "name": "stdout",
          "output_type": "stream",
          "text": [
            "******************** Lipophilicity_AstraZeneca ******************** \n",
            "\t|       mae      |       rmse      |       r2      |       pcc      |       spearman      \n",
            "\t&0.632$\\pm$0.001  &0.824$\\pm$0.001  &0.541$\\pm$0.001  &0.736$\\pm$0.000  &0.705$\\pm$0.001  collect data for:  ['HydrationFreeEnergy_FreeSolv']\n"
          ]
        },
        {
          "name": "stderr",
          "output_type": "stream",
          "text": [
            "Done!\n",
            "Found local copy...\n",
            "Loading...\n"
          ]
        },
        {
          "name": "stdout",
          "output_type": "stream",
          "text": [
            "******************** HydrationFreeEnergy_FreeSolv ******************** \n",
            "\t|       mae      |       rmse      |       r2      |       pcc      |       spearman      \n",
            "\t&0.724$\\pm$0.003  &1.271$\\pm$0.005  &0.901$\\pm$0.001  &0.952$\\pm$0.000  &0.970$\\pm$0.001  collect data for:  ['Solubility_AqSolDB']\n"
          ]
        },
        {
          "name": "stderr",
          "output_type": "stream",
          "text": [
            "Done!\n",
            "Found local copy...\n",
            "Loading...\n"
          ]
        },
        {
          "name": "stdout",
          "output_type": "stream",
          "text": [
            "******************** Solubility_AqSolDB ******************** \n",
            "\t|       mae      |       rmse      |       r2      |       pcc      |       spearman      \n",
            "\t&0.903$\\pm$0.001  &1.276$\\pm$0.001  &0.700$\\pm$0.000  &0.838$\\pm$0.000  &0.834$\\pm$0.000  collect data for:  ['LD50_Zhu']\n"
          ]
        },
        {
          "name": "stderr",
          "output_type": "stream",
          "text": [
            "Done!\n"
          ]
        },
        {
          "name": "stdout",
          "output_type": "stream",
          "text": [
            "******************** LD50_Zhu ******************** \n",
            "\t|       mae      |       rmse      |       r2      |       pcc      |       spearman      \n",
            "\t&0.426$\\pm$0.001  &0.581$\\pm$0.001  &0.623$\\pm$0.002  &0.789$\\pm$0.001  &0.746$\\pm$0.002  collect data for:  ['Kp']\n"
          ]
        },
        {
          "name": "stderr",
          "output_type": "stream",
          "text": [
            "Found local copy...\n",
            "Loading...\n"
          ]
        },
        {
          "name": "stdout",
          "output_type": "stream",
          "text": [
            "******************** Kp ******************** \n",
            "\t|       mae      |       rmse      |       r2      |       pcc      |       spearman      \n",
            "\t&5.956$\\pm$0.115  &12.234$\\pm$0.088  &0.207$\\pm$0.011  &0.485$\\pm$0.010  &0.438$\\pm$0.016  collect data for:  ['Half_Life_Obach']\n"
          ]
        },
        {
          "name": "stderr",
          "output_type": "stream",
          "text": [
            "Done!\n",
            "Found local copy...\n",
            "Loading...\n"
          ]
        },
        {
          "name": "stdout",
          "output_type": "stream",
          "text": [
            "******************** Half_Life_Obach ******************** \n",
            "\t|       mae      |       rmse      |       r2      |       pcc      |       spearman      \n",
            "\t&29.358$\\pm$0.965  &105.727$\\pm$2.015  &0.220$\\pm$0.030  &0.484$\\pm$0.024  &0.326$\\pm$0.030  collect data for:  ['Clearance_Hepatocyte_AZ']\n"
          ]
        },
        {
          "name": "stderr",
          "output_type": "stream",
          "text": [
            "Done!\n",
            "Found local copy...\n",
            "Loading...\n"
          ]
        },
        {
          "name": "stdout",
          "output_type": "stream",
          "text": [
            "******************** Clearance_Hepatocyte_AZ ******************** \n",
            "\t|       mae      |       rmse      |       r2      |       pcc      |       spearman      \n",
            "\t&35.924$\\pm$0.245  &48.224$\\pm$0.145  &0.068$\\pm$0.006  &0.333$\\pm$0.005  &0.396$\\pm$0.011  collect data for:  ['Clearance_Microsome_AZ']\n"
          ]
        },
        {
          "name": "stderr",
          "output_type": "stream",
          "text": [
            "Done!\n",
            "Found local copy...\n",
            "Loading...\n"
          ]
        },
        {
          "name": "stdout",
          "output_type": "stream",
          "text": [
            "******************** Clearance_Microsome_AZ ******************** \n",
            "\t|       mae      |       rmse      |       r2      |       pcc      |       spearman      \n",
            "\t&29.818$\\pm$0.205  &40.895$\\pm$0.290  &0.116$\\pm$0.013  &0.375$\\pm$0.014  &0.506$\\pm$0.015  collect data for:  ['PPBR_AZ']\n"
          ]
        },
        {
          "name": "stderr",
          "output_type": "stream",
          "text": [
            "Done!\n",
            "Found local copy...\n",
            "Loading...\n"
          ]
        },
        {
          "name": "stdout",
          "output_type": "stream",
          "text": [
            "******************** PPBR_AZ ******************** \n",
            "\t|       mae      |       rmse      |       r2      |       pcc      |       spearman      \n",
            "\t&8.667$\\pm$0.039  &12.998$\\pm$0.043  &0.303$\\pm$0.005  &0.555$\\pm$0.004  &0.536$\\pm$0.001  collect data for:  ['VDss_Lombardo']\n"
          ]
        },
        {
          "name": "stderr",
          "output_type": "stream",
          "text": [
            "Done!\n"
          ]
        },
        {
          "name": "stdout",
          "output_type": "stream",
          "text": [
            "******************** VDss_Lombardo ******************** \n",
            "\t|       mae      |       rmse      |       r2      |       pcc      |       spearman      \n",
            "\t&3.132$\\pm$0.013  &5.643$\\pm$0.021  &0.318$\\pm$0.005  &0.571$\\pm$0.005  &0.570$\\pm$0.009  "
          ]
        }
      ],
      "source": [
        "ver = False\n",
        "for name in names_reg:\n",
        "    perfs = train_RF(name, metric_num, ver, repeat_time, save_path)\n",
        "    eval_perf_list(perfs, name, {'reg': [0,2,3,4,5], 'cls':[0, 1, 6, 8]})"
      ]
    },
    {
      "cell_type": "code",
      "execution_count": null,
      "metadata": {
        "colab": {
          "base_uri": "https://localhost:8080/"
        },
        "id": "2zK4-MRY5bVS",
        "outputId": "35e82d16-2930-41a0-b35f-23d27bc7a18c"
      },
      "outputs": [
        {
          "output_type": "stream",
          "name": "stdout",
          "text": [
            "******************** Caco2_Wang ******************** \n",
            "\t|       mae      |       rmse      |       r2      |       spearman      \n",
            "\t|0.340&plusmn;0.001  |0.447&plusmn;0.001  |0.686&plusmn;0.002  |0.796&plusmn;0.001  \n",
            "\n",
            "******************** Lipophilicity_AstraZeneca ******************** \n",
            "\t|       mae      |       rmse      |       r2      |       spearman      \n",
            "\t|0.632&plusmn;0.001  |0.824&plusmn;0.001  |0.541&plusmn;0.001  |0.705&plusmn;0.001  \n",
            "\n",
            "******************** HydrationFreeEnergy_FreeSolv ******************** \n",
            "\t|       mae      |       rmse      |       r2      |       spearman      \n",
            "\t|0.724&plusmn;0.003  |1.271&plusmn;0.005  |0.901&plusmn;0.001  |0.970&plusmn;0.001  \n",
            "\n",
            "******************** Solubility_AqSolDB ******************** \n",
            "\t|       mae      |       rmse      |       r2      |       spearman      \n",
            "\t|0.903&plusmn;0.001  |1.276&plusmn;0.001  |0.700&plusmn;0.000  |0.834&plusmn;0.000  \n",
            "\n",
            "******************** LD50_Zhu ******************** \n",
            "\t|       mae      |       rmse      |       r2      |       spearman      \n",
            "\t|0.426&plusmn;0.001  |0.581&plusmn;0.001  |0.623&plusmn;0.002  |0.746&plusmn;0.002  \n",
            "\n",
            "******************** Kp ******************** \n",
            "\t|       mae      |       rmse      |       r2      |       spearman      \n",
            "\t|5.956&plusmn;0.115  |12.234&plusmn;0.088  |0.207&plusmn;0.011  |0.438&plusmn;0.016  \n",
            "\n",
            "******************** Half_Life_Obach ******************** \n",
            "\t|       mae      |       rmse      |       r2      |       spearman      \n",
            "\t|29.358&plusmn;0.965  |105.727&plusmn;2.015  |0.220&plusmn;0.030  |0.326&plusmn;0.030  \n",
            "\n",
            "******************** Clearance_Hepatocyte_AZ ******************** \n",
            "\t|       mae      |       rmse      |       r2      |       spearman      \n",
            "\t|35.924&plusmn;0.245  |48.224&plusmn;0.145  |0.068&plusmn;0.006  |0.396&plusmn;0.011  \n",
            "\n",
            "******************** Clearance_Microsome_AZ ******************** \n",
            "\t|       mae      |       rmse      |       r2      |       spearman      \n",
            "\t|29.818&plusmn;0.205  |40.895&plusmn;0.290  |0.116&plusmn;0.013  |0.506&plusmn;0.015  \n",
            "\n",
            "******************** PPBR_AZ ******************** \n",
            "\t|       mae      |       rmse      |       r2      |       spearman      \n",
            "\t|8.667&plusmn;0.039  |12.998&plusmn;0.043  |0.303&plusmn;0.005  |0.536&plusmn;0.001  \n",
            "\n",
            "******************** VDss_Lombardo ******************** \n",
            "\t|       mae      |       rmse      |       r2      |       spearman      \n",
            "\t|3.132&plusmn;0.013  |5.643&plusmn;0.021  |0.318&plusmn;0.005  |0.570&plusmn;0.009  \n",
            "\n"
          ]
        }
      ],
      "source": [
        "name = 'Caco2_Wang'\n",
        "ver = True\n",
        "metric_num = -1 # AP\n",
        "repeat_time = 3\n",
        "save_path = 'RF'\n",
        "for name in names_reg:\n",
        "    with open(f'{save_path}/{name}.pkl', 'rb') as f:\n",
        "            data = pickle.load(f)\n",
        "            eval_perf_list(data, name, {'reg': [0,2,3,5], 'cls':[0, 1, 6, 8]}, tok='|')\n",
        "            print('\\n')\n",
        "# eval_perf_list(perfs, name)"
      ]
    },
    {
      "cell_type": "markdown",
      "metadata": {
        "id": "iWJNAFWI5-UG"
      },
      "source": [
        "## classification"
      ]
    },
    {
      "cell_type": "code",
      "execution_count": null,
      "metadata": {
        "colab": {
          "base_uri": "https://localhost:8080/"
        },
        "id": "W8RHmE3HGsfE",
        "outputId": "04041551-b0ef-439a-e49c-c3f146b2b707"
      },
      "outputs": [
        {
          "data": {
            "text/plain": [
              "['CYP2C19_Veith',\n",
              " 'CYP2D6_Veith',\n",
              " 'CYP3A4_Veith',\n",
              " 'CYP1A2_Veith',\n",
              " 'CYP2C9_Veith',\n",
              " 'BBB_Martins',\n",
              " 'Bioavailability_Ma',\n",
              " 'Pgp_Broccatelli',\n",
              " 'HIA_Hou',\n",
              " 'PAMPA_NCATS',\n",
              " 'hERG_Karim',\n",
              " 'AMES',\n",
              " 'CYP2C9_Substrate_CarbonMangels',\n",
              " 'CYP2D6_Substrate_CarbonMangels',\n",
              " 'CYP3A4_Substrate_CarbonMangels',\n",
              " 'DILI',\n",
              " 'Skin Reaction',\n",
              " 'Carcinogens_Lagunin',\n",
              " 'ClinTox']"
            ]
          },
          "execution_count": 11,
          "metadata": {},
          "output_type": "execute_result"
        }
      ],
      "source": [
        "names_cls"
      ]
    },
    {
      "cell_type": "code",
      "execution_count": null,
      "metadata": {
        "colab": {
          "background_save": true,
          "base_uri": "https://localhost:8080/"
        },
        "id": "Q3PvMxnaLbQm",
        "outputId": "a07849b7-1bce-4966-a6e7-64e843f3ed5b"
      },
      "outputs": [
        {
          "name": "stderr",
          "output_type": "stream",
          "text": [
            "Found local copy...\n",
            "Loading...\n",
            "Done!\n"
          ]
        },
        {
          "name": "stdout",
          "output_type": "stream",
          "text": [
            "collect data for:  ['CYP2C19_Veith']\n"
          ]
        },
        {
          "name": "stderr",
          "output_type": "stream",
          "text": [
            "Found local copy...\n",
            "Loading...\n"
          ]
        },
        {
          "name": "stdout",
          "output_type": "stream",
          "text": [
            "******************** CYP2C19_Veith ******************** \n",
            "\t|       acc      |       auc      |       ap      \n",
            "\t&0.780$\\pm$0.003  &0.854$\\pm$0.000  &0.808$\\pm$0.001  collect data for:  ['CYP2D6_Veith']\n"
          ]
        },
        {
          "name": "stderr",
          "output_type": "stream",
          "text": [
            "Done!\n",
            "Found local copy...\n",
            "Loading...\n"
          ]
        },
        {
          "name": "stdout",
          "output_type": "stream",
          "text": [
            "******************** CYP2D6_Veith ******************** \n",
            "\t|       acc      |       auc      |       ap      \n",
            "\t&0.860$\\pm$0.001  &0.857$\\pm$0.001  &0.639$\\pm$0.000  collect data for:  ['CYP3A4_Veith']\n"
          ]
        },
        {
          "name": "stderr",
          "output_type": "stream",
          "text": [
            "Done!\n",
            "Found local copy...\n",
            "Loading...\n"
          ]
        },
        {
          "name": "stdout",
          "output_type": "stream",
          "text": [
            "******************** CYP3A4_Veith ******************** \n",
            "\t|       acc      |       auc      |       ap      \n",
            "\t&0.767$\\pm$0.001  &0.849$\\pm$0.000  &0.790$\\pm$0.001  collect data for:  ['CYP1A2_Veith']\n"
          ]
        },
        {
          "name": "stderr",
          "output_type": "stream",
          "text": [
            "Done!\n",
            "Found local copy...\n",
            "Loading...\n"
          ]
        },
        {
          "name": "stdout",
          "output_type": "stream",
          "text": [
            "******************** CYP1A2_Veith ******************** \n",
            "\t|       acc      |       auc      |       ap      \n",
            "\t&0.840$\\pm$0.001  &0.919$\\pm$0.000  &0.912$\\pm$0.001  collect data for:  ['CYP2C9_Veith']\n"
          ]
        },
        {
          "name": "stderr",
          "output_type": "stream",
          "text": [
            "Done!\n",
            "Found local copy...\n",
            "Loading...\n"
          ]
        },
        {
          "name": "stdout",
          "output_type": "stream",
          "text": [
            "******************** CYP2C9_Veith ******************** \n",
            "\t|       acc      |       auc      |       ap      \n",
            "\t&0.796$\\pm$0.003  &0.867$\\pm$0.002  &0.737$\\pm$0.002  collect data for:  ['BBB_Martins']\n"
          ]
        },
        {
          "name": "stderr",
          "output_type": "stream",
          "text": [
            "Done!\n",
            "Found local copy...\n",
            "Loading...\n"
          ]
        },
        {
          "name": "stdout",
          "output_type": "stream",
          "text": [
            "******************** BBB_Martins ******************** \n",
            "\t|       acc      |       auc      |       ap      \n",
            "\t&0.856$\\pm$0.005  &0.904$\\pm$0.004  &0.960$\\pm$0.004  collect data for:  ['Bioavailability_Ma']\n"
          ]
        },
        {
          "name": "stderr",
          "output_type": "stream",
          "text": [
            "Done!\n",
            "Found local copy...\n",
            "Loading...\n"
          ]
        },
        {
          "name": "stdout",
          "output_type": "stream",
          "text": [
            "******************** Bioavailability_Ma ******************** \n",
            "\t|       acc      |       auc      |       ap      \n",
            "\t&0.747$\\pm$0.007  &0.718$\\pm$0.007  &0.837$\\pm$0.003  collect data for:  ['Pgp_Broccatelli']\n"
          ]
        },
        {
          "name": "stderr",
          "output_type": "stream",
          "text": [
            "Done!\n",
            "Found local copy...\n",
            "Loading...\n",
            "Done!\n"
          ]
        },
        {
          "name": "stdout",
          "output_type": "stream",
          "text": [
            "******************** Pgp_Broccatelli ******************** \n",
            "\t|       acc      |       auc      |       ap      \n",
            "\t&0.831$\\pm$0.011  &0.906$\\pm$0.003  &0.933$\\pm$0.002  collect data for:  ['HIA_Hou']\n"
          ]
        },
        {
          "name": "stderr",
          "output_type": "stream",
          "text": [
            "Found local copy...\n",
            "Loading...\n"
          ]
        },
        {
          "name": "stdout",
          "output_type": "stream",
          "text": [
            "******************** HIA_Hou ******************** \n",
            "\t|       acc      |       auc      |       ap      \n",
            "\t&0.963$\\pm$0.004  &0.979$\\pm$0.002  &0.996$\\pm$0.001  collect data for:  ['PAMPA_NCATS']\n"
          ]
        },
        {
          "name": "stderr",
          "output_type": "stream",
          "text": [
            "Done!\n",
            "Found local copy...\n",
            "Loading...\n"
          ]
        },
        {
          "name": "stdout",
          "output_type": "stream",
          "text": [
            "******************** PAMPA_NCATS ******************** \n",
            "\t|       acc      |       auc      |       ap      \n",
            "\t&0.857$\\pm$0.008  &0.797$\\pm$0.001  &0.950$\\pm$0.001  collect data for:  ['hERG_Karim']\n"
          ]
        },
        {
          "name": "stderr",
          "output_type": "stream",
          "text": [
            "Done!\n",
            "Found local copy...\n",
            "Loading...\n"
          ]
        },
        {
          "name": "stdout",
          "output_type": "stream",
          "text": [
            "******************** hERG_Karim ******************** \n",
            "\t|       acc      |       auc      |       ap      \n",
            "\t&0.836$\\pm$0.003  &0.905$\\pm$0.000  &0.908$\\pm$0.000  collect data for:  ['AMES']\n"
          ]
        },
        {
          "name": "stderr",
          "output_type": "stream",
          "text": [
            "Done!\n",
            "Found local copy...\n",
            "Loading...\n"
          ]
        },
        {
          "name": "stdout",
          "output_type": "stream",
          "text": [
            "******************** AMES ******************** \n",
            "\t|       acc      |       auc      |       ap      \n",
            "\t&0.835$\\pm$0.002  &0.900$\\pm$0.001  &0.909$\\pm$0.001  collect data for:  ['CYP2C9_Substrate_CarbonMangels']\n"
          ]
        },
        {
          "name": "stderr",
          "output_type": "stream",
          "text": [
            "Done!\n",
            "Found local copy...\n",
            "Loading...\n"
          ]
        },
        {
          "name": "stdout",
          "output_type": "stream",
          "text": [
            "******************** CYP2C9_Substrate_CarbonMangels ******************** \n",
            "\t|       acc      |       auc      |       ap      \n",
            "\t&0.769$\\pm$0.006  &0.600$\\pm$0.002  &0.263$\\pm$0.001  collect data for:  ['CYP2D6_Substrate_CarbonMangels']\n"
          ]
        },
        {
          "name": "stderr",
          "output_type": "stream",
          "text": [
            "Done!\n",
            "Found local copy...\n",
            "Loading...\n"
          ]
        },
        {
          "name": "stdout",
          "output_type": "stream",
          "text": [
            "******************** CYP2D6_Substrate_CarbonMangels ******************** \n",
            "\t|       acc      |       auc      |       ap      \n",
            "\t&0.742$\\pm$0.004  &0.791$\\pm$0.006  &0.539$\\pm$0.030  collect data for:  ['CYP3A4_Substrate_CarbonMangels']\n"
          ]
        },
        {
          "name": "stderr",
          "output_type": "stream",
          "text": [
            "Done!\n",
            "Found local copy...\n",
            "Loading...\n"
          ]
        },
        {
          "name": "stdout",
          "output_type": "stream",
          "text": [
            "******************** CYP3A4_Substrate_CarbonMangels ******************** \n",
            "\t|       acc      |       auc      |       ap      \n",
            "\t&0.624$\\pm$0.009  &0.657$\\pm$0.000  &0.627$\\pm$0.003  collect data for:  ['DILI']\n"
          ]
        },
        {
          "name": "stderr",
          "output_type": "stream",
          "text": [
            "Done!\n",
            "Found local copy...\n",
            "Loading...\n"
          ]
        },
        {
          "name": "stdout",
          "output_type": "stream",
          "text": [
            "******************** DILI ******************** \n",
            "\t|       acc      |       auc      |       ap      \n",
            "\t&0.818$\\pm$0.010  &0.886$\\pm$0.003  &0.882$\\pm$0.004  collect data for:  ['Skin Reaction']\n"
          ]
        },
        {
          "name": "stderr",
          "output_type": "stream",
          "text": [
            "Done!\n",
            "Found local copy...\n",
            "Loading...\n"
          ]
        },
        {
          "name": "stdout",
          "output_type": "stream",
          "text": [
            "******************** Skin Reaction ******************** \n",
            "\t|       acc      |       auc      |       ap      \n",
            "\t&0.831$\\pm$0.012  &0.839$\\pm$0.004  &0.828$\\pm$0.004  collect data for:  ['Carcinogens_Lagunin']\n"
          ]
        },
        {
          "name": "stderr",
          "output_type": "stream",
          "text": [
            "Done!\n",
            "Found local copy...\n",
            "Loading...\n"
          ]
        },
        {
          "name": "stdout",
          "output_type": "stream",
          "text": [
            "******************** Carcinogens_Lagunin ******************** \n",
            "\t|       acc      |       auc      |       ap      \n",
            "\t&0.893$\\pm$0.000  &0.820$\\pm$0.015  &0.744$\\pm$0.006  collect data for:  ['ClinTox']\n"
          ]
        },
        {
          "name": "stderr",
          "output_type": "stream",
          "text": [
            "Done!\n"
          ]
        },
        {
          "name": "stdout",
          "output_type": "stream",
          "text": [
            "******************** ClinTox ******************** \n",
            "\t|       acc      |       auc      |       ap      \n",
            "\t&0.921$\\pm$0.002  &0.904$\\pm$0.006  &0.455$\\pm$0.008  "
          ]
        }
      ],
      "source": [
        "name = 'HIA_Hou'\n",
        "ver = False\n",
        "metric_num = -1 # AP\n",
        "repeat_time = 3\n",
        "save_path = 'RF'\n",
        "\n",
        "\n",
        "\n",
        "for name in names_cls:\n",
        "    perfs = train_RF(name, metric_num, ver, repeat_time, save_path)\n",
        "\n",
        "    # with open(f'RF/{name}.pkl', 'rb') as fp:\n",
        "    #     perf_reload = pickle.load(fp)\n",
        "\n",
        "    # eval_perf_list(perf_reload, name)\n",
        "    eval_perf_list(perfs, name)"
      ]
    },
    {
      "cell_type": "code",
      "execution_count": null,
      "metadata": {
        "colab": {
          "base_uri": "https://localhost:8080/"
        },
        "id": "FFPaZY-k5Yyx",
        "outputId": "04ed44ee-ec50-4091-e267-08bf581a49a5"
      },
      "outputs": [
        {
          "name": "stdout",
          "output_type": "stream",
          "text": [
            "******************** CYP2C19_Veith ******************** \n",
            "\t|       acc      |       auc      |       ap      \n",
            "\t|0.780&plusmn;0.003  |0.854&plusmn;0.000  |0.808&plusmn;0.001  \n",
            "\n",
            "******************** CYP2D6_Veith ******************** \n",
            "\t|       acc      |       auc      |       ap      \n",
            "\t|0.860&plusmn;0.001  |0.857&plusmn;0.001  |0.639&plusmn;0.000  \n",
            "\n",
            "******************** CYP3A4_Veith ******************** \n",
            "\t|       acc      |       auc      |       ap      \n",
            "\t|0.767&plusmn;0.001  |0.849&plusmn;0.000  |0.790&plusmn;0.001  \n",
            "\n",
            "******************** CYP1A2_Veith ******************** \n",
            "\t|       acc      |       auc      |       ap      \n",
            "\t|0.840&plusmn;0.001  |0.919&plusmn;0.000  |0.912&plusmn;0.001  \n",
            "\n",
            "******************** CYP2C9_Veith ******************** \n",
            "\t|       acc      |       auc      |       ap      \n",
            "\t|0.796&plusmn;0.003  |0.867&plusmn;0.002  |0.737&plusmn;0.002  \n",
            "\n",
            "******************** BBB_Martins ******************** \n",
            "\t|       acc      |       auc      |       ap      \n",
            "\t|0.856&plusmn;0.005  |0.904&plusmn;0.004  |0.960&plusmn;0.004  \n",
            "\n",
            "******************** Bioavailability_Ma ******************** \n",
            "\t|       acc      |       auc      |       ap      \n",
            "\t|0.747&plusmn;0.007  |0.718&plusmn;0.007  |0.837&plusmn;0.003  \n",
            "\n",
            "******************** Pgp_Broccatelli ******************** \n",
            "\t|       acc      |       auc      |       ap      \n",
            "\t|0.831&plusmn;0.011  |0.906&plusmn;0.003  |0.933&plusmn;0.002  \n",
            "\n",
            "******************** HIA_Hou ******************** \n",
            "\t|       acc      |       auc      |       ap      \n",
            "\t|0.963&plusmn;0.004  |0.979&plusmn;0.002  |0.996&plusmn;0.001  \n",
            "\n",
            "******************** PAMPA_NCATS ******************** \n",
            "\t|       acc      |       auc      |       ap      \n",
            "\t|0.857&plusmn;0.008  |0.797&plusmn;0.001  |0.950&plusmn;0.001  \n",
            "\n",
            "******************** hERG_Karim ******************** \n",
            "\t|       acc      |       auc      |       ap      \n",
            "\t|0.836&plusmn;0.003  |0.905&plusmn;0.000  |0.908&plusmn;0.000  \n",
            "\n",
            "******************** AMES ******************** \n",
            "\t|       acc      |       auc      |       ap      \n",
            "\t|0.835&plusmn;0.002  |0.900&plusmn;0.001  |0.909&plusmn;0.001  \n",
            "\n",
            "******************** CYP2C9_Substrate_CarbonMangels ******************** \n",
            "\t|       acc      |       auc      |       ap      \n",
            "\t|0.769&plusmn;0.006  |0.600&plusmn;0.002  |0.263&plusmn;0.001  \n",
            "\n",
            "******************** CYP2D6_Substrate_CarbonMangels ******************** \n",
            "\t|       acc      |       auc      |       ap      \n",
            "\t|0.742&plusmn;0.004  |0.791&plusmn;0.006  |0.539&plusmn;0.030  \n",
            "\n",
            "******************** CYP3A4_Substrate_CarbonMangels ******************** \n",
            "\t|       acc      |       auc      |       ap      \n",
            "\t|0.624&plusmn;0.009  |0.657&plusmn;0.000  |0.627&plusmn;0.003  \n",
            "\n",
            "******************** DILI ******************** \n",
            "\t|       acc      |       auc      |       ap      \n",
            "\t|0.818&plusmn;0.010  |0.886&plusmn;0.003  |0.882&plusmn;0.004  \n",
            "\n",
            "******************** Skin Reaction ******************** \n",
            "\t|       acc      |       auc      |       ap      \n",
            "\t|0.831&plusmn;0.012  |0.839&plusmn;0.004  |0.828&plusmn;0.004  \n",
            "\n",
            "******************** Carcinogens_Lagunin ******************** \n",
            "\t|       acc      |       auc      |       ap      \n",
            "\t|0.893&plusmn;0.000  |0.820&plusmn;0.015  |0.744&plusmn;0.006  \n",
            "\n",
            "******************** ClinTox ******************** \n",
            "\t|       acc      |       auc      |       ap      \n",
            "\t|0.921&plusmn;0.002  |0.904&plusmn;0.006  |0.455&plusmn;0.008  \n",
            "\n"
          ]
        }
      ],
      "source": [
        "import pickle\n",
        "for name in names_cls:\n",
        "\n",
        "    with open(f'{save_path}/{name}.pkl', 'rb') as f:\n",
        "        data = pickle.load(f)\n",
        "        eval_perf_list(data, name, tok='|')\n",
        "        print('\\n')"
      ]
    },
    {
      "cell_type": "code",
      "execution_count": null,
      "metadata": {
        "colab": {
          "background_save": true
        },
        "id": "brecm39ux4UD",
        "outputId": "d5867956-cc56-471f-dc3f-3852a39e44c2"
      },
      "outputs": [
        {
          "name": "stdout",
          "output_type": "stream",
          "text": [
            "******************** CYP2C19_Veith ******************** \n",
            "\t|       acc      |       w_acc      |       auc      |       ap      \n",
            "\t|0.780&plusmn;0.003  |0.780&plusmn;0.003  |0.854&plusmn;0.000  |0.808&plusmn;0.001  \n",
            "\n",
            "******************** CYP2D6_Veith ******************** \n",
            "\t|       acc      |       w_acc      |       auc      |       ap      \n",
            "\t|0.860&plusmn;0.001  |0.689&plusmn;0.003  |0.857&plusmn;0.001  |0.639&plusmn;0.000  \n",
            "\n",
            "******************** CYP3A4_Veith ******************** \n",
            "\t|       acc      |       w_acc      |       auc      |       ap      \n",
            "\t|0.767&plusmn;0.001  |0.751&plusmn;0.000  |0.849&plusmn;0.000  |0.790&plusmn;0.001  \n",
            "\n",
            "******************** CYP1A2_Veith ******************** \n",
            "\t|       acc      |       w_acc      |       auc      |       ap      \n",
            "\t|0.840&plusmn;0.001  |0.838&plusmn;0.001  |0.919&plusmn;0.000  |0.912&plusmn;0.001  \n",
            "\n",
            "******************** CYP2C9_Veith ******************** \n",
            "\t|       acc      |       w_acc      |       auc      |       ap      \n",
            "\t|0.796&plusmn;0.003  |0.756&plusmn;0.003  |0.867&plusmn;0.002  |0.737&plusmn;0.002  \n",
            "\n",
            "******************** BBB_Martins ******************** \n",
            "\t|       acc      |       w_acc      |       auc      |       ap      \n",
            "\t|0.856&plusmn;0.005  |0.753&plusmn;0.011  |0.904&plusmn;0.004  |0.960&plusmn;0.004  \n",
            "\n",
            "******************** Bioavailability_Ma ******************** \n",
            "\t|       acc      |       w_acc      |       auc      |       ap      \n",
            "\t|0.747&plusmn;0.007  |0.590&plusmn;0.012  |0.718&plusmn;0.007  |0.837&plusmn;0.003  \n",
            "\n",
            "******************** Pgp_Broccatelli ******************** \n",
            "\t|       acc      |       w_acc      |       auc      |       ap      \n",
            "\t|0.831&plusmn;0.011  |0.831&plusmn;0.011  |0.906&plusmn;0.003  |0.933&plusmn;0.002  \n",
            "\n",
            "******************** HIA_Hou ******************** \n",
            "\t|       acc      |       w_acc      |       auc      |       ap      \n",
            "\t|0.963&plusmn;0.004  |0.886&plusmn;0.012  |0.979&plusmn;0.002  |0.996&plusmn;0.001  \n",
            "\n",
            "******************** PAMPA_NCATS ******************** \n",
            "\t|       acc      |       w_acc      |       auc      |       ap      \n",
            "\t|0.857&plusmn;0.008  |0.608&plusmn;0.023  |0.797&plusmn;0.001  |0.950&plusmn;0.001  \n",
            "\n",
            "******************** hERG_Karim ******************** \n",
            "\t|       acc      |       w_acc      |       auc      |       ap      \n",
            "\t|0.836&plusmn;0.003  |0.836&plusmn;0.003  |0.905&plusmn;0.000  |0.908&plusmn;0.000  \n",
            "\n",
            "******************** AMES ******************** \n",
            "\t|       acc      |       w_acc      |       auc      |       ap      \n",
            "\t|0.835&plusmn;0.002  |0.834&plusmn;0.003  |0.900&plusmn;0.001  |0.909&plusmn;0.001  \n",
            "\n",
            "******************** CYP2C9_Substrate_CarbonMangels ******************** \n",
            "\t|       acc      |       w_acc      |       auc      |       ap      \n",
            "\t|0.769&plusmn;0.006  |0.500&plusmn;0.004  |0.600&plusmn;0.002  |0.263&plusmn;0.001  \n",
            "\n",
            "******************** CYP2D6_Substrate_CarbonMangels ******************** \n",
            "\t|       acc      |       w_acc      |       auc      |       ap      \n",
            "\t|0.742&plusmn;0.004  |0.648&plusmn;0.012  |0.791&plusmn;0.006  |0.539&plusmn;0.030  \n",
            "\n",
            "******************** CYP3A4_Substrate_CarbonMangels ******************** \n",
            "\t|       acc      |       w_acc      |       auc      |       ap      \n",
            "\t|0.624&plusmn;0.009  |0.624&plusmn;0.009  |0.657&plusmn;0.000  |0.627&plusmn;0.003  \n",
            "\n",
            "******************** DILI ******************** \n",
            "\t|       acc      |       w_acc      |       auc      |       ap      \n",
            "\t|0.818&plusmn;0.010  |0.817&plusmn;0.010  |0.886&plusmn;0.003  |0.882&plusmn;0.004  \n",
            "\n",
            "******************** Skin Reaction ******************** \n",
            "\t|       acc      |       w_acc      |       auc      |       ap      \n",
            "\t|0.831&plusmn;0.012  |0.790&plusmn;0.014  |0.839&plusmn;0.004  |0.828&plusmn;0.004  \n",
            "\n",
            "******************** Carcinogens_Lagunin ******************** \n",
            "\t|       acc      |       w_acc      |       auc      |       ap      \n",
            "\t|0.893&plusmn;0.000  |0.780&plusmn;0.000  |0.820&plusmn;0.015  |0.744&plusmn;0.006  \n",
            "\n",
            "******************** ClinTox ******************** \n",
            "\t|       acc      |       w_acc      |       auc      |       ap      \n",
            "\t|0.921&plusmn;0.002  |0.577&plusmn;0.001  |0.904&plusmn;0.006  |0.455&plusmn;0.008  \n",
            "\n"
          ]
        }
      ],
      "source": [
        "import pickle\n",
        "for name in names_cls:\n",
        "    with open(f'{save_path}/{name}.pkl', 'rb') as f:\n",
        "        data = pickle.load(f)\n",
        "        eval_perf_list(data, name, {'reg': [0,2,3,4,5], 'cls':[0, 1, 6, 8]}, tok='|')\n",
        "        print('\\n')"
      ]
    },
    {
      "cell_type": "code",
      "source": [
        "import pickle\n",
        "for name in names_reg:\n",
        "    with open(f'{save_path}/{name}.pkl', 'rb') as f:\n",
        "        data = pickle.load(f)\n",
        "        eval_perf_list(data, name, {'reg': [0,2,3,5], 'cls':[0, 1, 6, 8]}, tok='|')\n",
        "        print('\\n')"
      ],
      "metadata": {
        "colab": {
          "base_uri": "https://localhost:8080/"
        },
        "id": "xOMVb6A75x8O",
        "outputId": "4c9f2af1-1098-4946-e288-5e5cfa606516"
      },
      "execution_count": null,
      "outputs": [
        {
          "output_type": "stream",
          "name": "stdout",
          "text": [
            "******************** Caco2_Wang ******************** \n",
            "\t|       mae      |       rmse      |       r2      |       spearman      \n",
            "\t|0.340&plusmn;0.001  |0.447&plusmn;0.001  |0.686&plusmn;0.002  |0.796&plusmn;0.001  \n",
            "\n",
            "******************** Lipophilicity_AstraZeneca ******************** \n",
            "\t|       mae      |       rmse      |       r2      |       spearman      \n",
            "\t|0.632&plusmn;0.001  |0.824&plusmn;0.001  |0.541&plusmn;0.001  |0.705&plusmn;0.001  \n",
            "\n",
            "******************** HydrationFreeEnergy_FreeSolv ******************** \n",
            "\t|       mae      |       rmse      |       r2      |       spearman      \n",
            "\t|0.724&plusmn;0.003  |1.271&plusmn;0.005  |0.901&plusmn;0.001  |0.970&plusmn;0.001  \n",
            "\n",
            "******************** Solubility_AqSolDB ******************** \n",
            "\t|       mae      |       rmse      |       r2      |       spearman      \n",
            "\t|0.903&plusmn;0.001  |1.276&plusmn;0.001  |0.700&plusmn;0.000  |0.834&plusmn;0.000  \n",
            "\n",
            "******************** LD50_Zhu ******************** \n",
            "\t|       mae      |       rmse      |       r2      |       spearman      \n",
            "\t|0.426&plusmn;0.001  |0.581&plusmn;0.001  |0.623&plusmn;0.002  |0.746&plusmn;0.002  \n",
            "\n",
            "******************** Kp ******************** \n",
            "\t|       mae      |       rmse      |       r2      |       spearman      \n",
            "\t|5.956&plusmn;0.115  |12.234&plusmn;0.088  |0.207&plusmn;0.011  |0.438&plusmn;0.016  \n",
            "\n",
            "******************** Half_Life_Obach ******************** \n",
            "\t|       mae      |       rmse      |       r2      |       spearman      \n",
            "\t|29.358&plusmn;0.965  |105.727&plusmn;2.015  |0.220&plusmn;0.030  |0.326&plusmn;0.030  \n",
            "\n",
            "******************** Clearance_Hepatocyte_AZ ******************** \n",
            "\t|       mae      |       rmse      |       r2      |       spearman      \n",
            "\t|35.924&plusmn;0.245  |48.224&plusmn;0.145  |0.068&plusmn;0.006  |0.396&plusmn;0.011  \n",
            "\n",
            "******************** Clearance_Microsome_AZ ******************** \n",
            "\t|       mae      |       rmse      |       r2      |       spearman      \n",
            "\t|29.818&plusmn;0.205  |40.895&plusmn;0.290  |0.116&plusmn;0.013  |0.506&plusmn;0.015  \n",
            "\n",
            "******************** PPBR_AZ ******************** \n",
            "\t|       mae      |       rmse      |       r2      |       spearman      \n",
            "\t|8.667&plusmn;0.039  |12.998&plusmn;0.043  |0.303&plusmn;0.005  |0.536&plusmn;0.001  \n",
            "\n",
            "******************** VDss_Lombardo ******************** \n",
            "\t|       mae      |       rmse      |       r2      |       spearman      \n",
            "\t|3.132&plusmn;0.013  |5.643&plusmn;0.021  |0.318&plusmn;0.005  |0.570&plusmn;0.009  \n",
            "\n"
          ]
        }
      ]
    },
    {
      "cell_type": "code",
      "source": [
        "mon = [336.78]*4\n",
        "mon = mon + [420.98] * 4\n",
        "mon = mon + [353.61] + [404.15] + [353.61]*3 + [140]"
      ],
      "metadata": {
        "id": "l_E2aSMyLvE1"
      },
      "execution_count": null,
      "outputs": []
    },
    {
      "cell_type": "code",
      "source": [
        "len(mon)"
      ],
      "metadata": {
        "colab": {
          "base_uri": "https://localhost:8080/"
        },
        "id": "P9tuNGoUMOY_",
        "outputId": "4fd4dbef-e444-424b-8eb1-da62f7cdcbad"
      },
      "execution_count": null,
      "outputs": [
        {
          "output_type": "execute_result",
          "data": {
            "text/plain": [
              "14"
            ]
          },
          "metadata": {},
          "execution_count": 22
        }
      ]
    },
    {
      "cell_type": "code",
      "source": [
        "date_ = ['0112','0209','0316','0413','0511','0608','0706','0803','0821','0921','1019','1116','1206','1121']"
      ],
      "metadata": {
        "id": "3tYKWaBkMqi5"
      },
      "execution_count": null,
      "outputs": []
    },
    {
      "cell_type": "code",
      "source": [
        "for i in range(len(mon)):\n",
        "    print(date_[i], mon[i])"
      ],
      "metadata": {
        "colab": {
          "base_uri": "https://localhost:8080/"
        },
        "id": "QmzG8sobL15I",
        "outputId": "6eada42f-317f-49cb-94c1-2a82c7cd39db"
      },
      "execution_count": null,
      "outputs": [
        {
          "output_type": "stream",
          "name": "stdout",
          "text": [
            "0112 336.78\n",
            "0209 336.78\n",
            "0316 336.78\n",
            "0413 336.78\n",
            "0511 420.98\n",
            "0608 420.98\n",
            "0706 420.98\n",
            "0803 420.98\n",
            "0821 353.61\n",
            "0921 404.15\n",
            "1019 353.61\n",
            "1116 353.61\n",
            "1206 353.61\n",
            "1121 140\n"
          ]
        }
      ]
    },
    {
      "cell_type": "code",
      "source": [
        "value = 0\n",
        "for i in range(len(mon)):\n",
        "    value += mon[i]"
      ],
      "metadata": {
        "id": "YoXICCwBMRY8"
      },
      "execution_count": null,
      "outputs": []
    },
    {
      "cell_type": "code",
      "source": [
        "value"
      ],
      "metadata": {
        "colab": {
          "base_uri": "https://localhost:8080/"
        },
        "id": "S9BNKZMIMkTz",
        "outputId": "dd0a486e-bd0c-4608-9186-a7c31ead74a7"
      },
      "execution_count": null,
      "outputs": [
        {
          "output_type": "execute_result",
          "data": {
            "text/plain": [
              "4989.629999999999"
            ]
          },
          "metadata": {},
          "execution_count": 25
        }
      ]
    },
    {
      "cell_type": "code",
      "source": [],
      "metadata": {
        "id": "PD8Cak5LMkxE"
      },
      "execution_count": null,
      "outputs": []
    }
  ],
  "metadata": {
    "colab": {
      "provenance": [],
      "mount_file_id": "1WQzKw1zBqExVUyZvg8QsWJ4cJmJFL__U",
      "authorship_tag": "ABX9TyO+Pk+69XeGpplK5g6G8Dk5",
      "include_colab_link": true
    },
    "kernelspec": {
      "display_name": "Python 3",
      "name": "python3"
    },
    "language_info": {
      "name": "python"
    }
  },
  "nbformat": 4,
  "nbformat_minor": 0
}