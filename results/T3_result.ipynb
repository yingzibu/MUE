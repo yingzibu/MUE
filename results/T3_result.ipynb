{
  "nbformat": 4,
  "nbformat_minor": 0,
  "metadata": {
    "colab": {
      "provenance": [],
      "machine_shape": "hm",
      "gpuType": "T4",
      "mount_file_id": "1WF_vy547EYUaNgadoypg91uQ2bv3Mazx",
      "authorship_tag": "ABX9TyMojaEK6SLggRdEhPGERlM3"
    },
    "kernelspec": {
      "name": "python3",
      "display_name": "Python 3"
    },
    "language_info": {
      "name": "python"
    },
    "accelerator": "GPU"
  },
  "cells": [
    {
      "cell_type": "code",
      "execution_count": 1,
      "metadata": {
        "colab": {
          "base_uri": "https://localhost:8080/"
        },
        "id": "CBsjxv_rIVC-",
        "outputId": "f2e9a7bb-75b6-44c3-f425-319649861047"
      },
      "outputs": [
        {
          "output_type": "stream",
          "name": "stdout",
          "text": [
            "2.1.0+cu121\n",
            "cuda:  True\n"
          ]
        }
      ],
      "source": [
        "import torch\n",
        "print(torch.__version__)\n",
        "print('cuda: ', torch.cuda.is_available())\n",
        "\n",
        "# rdkit:  2022.09.5\n",
        "# dgl: 2.0.0+cu121"
      ]
    },
    {
      "cell_type": "code",
      "source": [
        "! pip install rdkit --quiet\n",
        "! pip install PyTDC --quiet\n",
        "! pip install mycolorpy --quiet\n",
        "! pip install selfies  --quiet\n",
        "! pip install pubchempy --quiet\n",
        "! pip install dgllife --quiet\n",
        "! pip install molvs --quiet\n",
        "! pip install dgl -f https://data.dgl.ai/wheels/cu121/repo.html --quiet\n",
        "! pip install dglgo -f https://data.dgl.ai/wheels-test/repo.html --quiet\n",
        "! pip install DeepPurpose --quiet\n",
        "! pip install git+https://github.com/bp-kelley/descriptastorus --quiet\n",
        "! pip install pandas-flavor --quiet"
      ],
      "metadata": {
        "colab": {
          "base_uri": "https://localhost:8080/"
        },
        "id": "hQIRS5s-IeAz",
        "outputId": "d629afc2-2bfd-4679-c0d2-f08a59e49ad7"
      },
      "execution_count": 2,
      "outputs": [
        {
          "output_type": "stream",
          "name": "stdout",
          "text": [
            "  Preparing metadata (setup.py) ... \u001b[?25l\u001b[?25hdone\n",
            "  Building wheel for descriptastorus (setup.py) ... \u001b[?25l\u001b[?25hdone\n"
          ]
        }
      ]
    },
    {
      "cell_type": "code",
      "source": [
        "cd /content/drive/MyDrive/ADMET"
      ],
      "metadata": {
        "colab": {
          "base_uri": "https://localhost:8080/"
        },
        "id": "qqASETh-If80",
        "outputId": "2856edca-1738-49ca-9e0f-2dd62f24ec78"
      },
      "execution_count": 3,
      "outputs": [
        {
          "output_type": "stream",
          "name": "stdout",
          "text": [
            "/content/drive/MyDrive/ADMET\n"
          ]
        }
      ]
    },
    {
      "cell_type": "code",
      "source": [
        "from scripts.func_utils import make_path, convert_with_qed_sa, get_min, \\\n",
        "                                plot_loss, plot_performance\n",
        "\n",
        "from scripts.eval_utils import *\n",
        "from scripts.preprocess_mols import *\n",
        "from scripts.model_architecture import *\n",
        "from scripts.dataset import *\n",
        "from scripts.train import *\n",
        "import yaml\n",
        "import pandas as pd\n",
        "from scripts.get_vocab import *\n",
        "\n",
        "from tdc.single_pred import ADME\n",
        "from tdc.single_pred import Tox\n",
        "from scripts.CONSTANT import *\n",
        "from scripts.yaml_utils import *\n",
        "\n",
        "from scripts.TRAIN import *\n",
        "\n",
        "print('VOCAB TYPE:', VOCAB_TYPE)\n"
      ],
      "metadata": {
        "colab": {
          "base_uri": "https://localhost:8080/"
        },
        "id": "eTaQRmFBIf_R",
        "outputId": "5649e05f-d9bb-42c5-a4de-0d351ee5a4a6"
      },
      "execution_count": 4,
      "outputs": [
        {
          "output_type": "stream",
          "name": "stderr",
          "text": [
            "DGL backend not selected or invalid.  Assuming PyTorch for now.\n"
          ]
        },
        {
          "output_type": "stream",
          "name": "stdout",
          "text": [
            "Setting the default backend to \"pytorch\". You can change it in the ~/.dgl/config.json file or export the DGLBACKEND environment variable.  Valid options are: pytorch, mxnet, tensorflow (all lowercase)\n",
            "VOCAB TYPE: smiles\n"
          ]
        }
      ]
    },
    {
      "cell_type": "code",
      "source": [
        "names_T3"
      ],
      "metadata": {
        "colab": {
          "base_uri": "https://localhost:8080/"
        },
        "id": "B6uuRqb8N8-G",
        "outputId": "57d09499-4531-4575-d3de-b7575486b81b"
      },
      "execution_count": 36,
      "outputs": [
        {
          "output_type": "execute_result",
          "data": {
            "text/plain": [
              "['hERG_Karim', 'AMES', 'LD50_Zhu']"
            ]
          },
          "metadata": {},
          "execution_count": 36
        }
      ]
    },
    {
      "cell_type": "markdown",
      "source": [
        "# Single task results for 3 toxicity tasks"
      ],
      "metadata": {
        "id": "5H4VAOafRWJ9"
      }
    },
    {
      "cell_type": "code",
      "source": [
        "print('single task evaluation on different models')\n",
        "for name in names_T3:\n",
        "    print('Evaluating : ', name)\n",
        "    folder_name = f'ST/{name}/'\n",
        "    for model_type in ['MLP', 'AttentiveFP', 'GIN', 'RNN']:\n",
        "        print('\\n','='*30, model_type, '='*30)\n",
        "        perfs = []\n",
        "        for i in range(3):\n",
        "            file_name = folder_name + model_type + '_ST_' + str(i) + '.yml'\n",
        "            p = yml_report(file_name, recalculate=False)\n",
        "            perfs.append(p)\n",
        "        eval_perf_list(perfs, name)\n",
        "    print('\\n\\n')"
      ],
      "metadata": {
        "colab": {
          "base_uri": "https://localhost:8080/"
        },
        "id": "hZ9w5XYpN_AC",
        "outputId": "48f2ccb3-46d5-4795-f7c3-c78a923f4a34"
      },
      "execution_count": 46,
      "outputs": [
        {
          "output_type": "stream",
          "name": "stdout",
          "text": [
            "single task evaluation on different models\n",
            "Evaluating :  hERG_Karim\n",
            "\n",
            " ============================== MLP ==============================\n",
            "repeated num # 3 idx 1 has the lowest loss\n",
            "******************** hERG_Karim ******************** \n",
            "\t|       acc      |       auc      |       ap      \n",
            "\t&0.790$\\pm$0.003  &0.865$\\pm$0.002  &0.872$\\pm$0.003  \n",
            " idx 1: &0.793            &0.867            &0.876            \n",
            "\n",
            "\n",
            " ============================== AttentiveFP ==============================\n",
            "repeated num # 3 idx 0 has the lowest loss\n",
            "******************** hERG_Karim ******************** \n",
            "\t|       acc      |       auc      |       ap      \n",
            "\t&0.814$\\pm$0.006  &0.894$\\pm$0.004  &0.894$\\pm$0.003  \n",
            " idx 0: &0.822            &0.899            &0.898            \n",
            "\n",
            "\n",
            " ============================== GIN ==============================\n",
            "repeated num # 3 idx 0 has the lowest loss\n",
            "******************** hERG_Karim ******************** \n",
            "\t|       acc      |       auc      |       ap      \n",
            "\t&0.812$\\pm$0.001  &0.893$\\pm$0.002  &0.899$\\pm$0.001  \n",
            " idx 0: &0.813            &0.895            &0.901            \n",
            "\n",
            "\n",
            " ============================== RNN ==============================\n",
            "repeated num # 3 idx 1 has the lowest loss\n",
            "******************** hERG_Karim ******************** \n",
            "\t|       acc      |       auc      |       ap      \n",
            "\t&0.765$\\pm$0.010  &0.847$\\pm$0.012  &0.848$\\pm$0.014  \n",
            " idx 1: &0.768            &0.852            &0.859            \n",
            "\n",
            "\n",
            "\n",
            "\n",
            "Evaluating :  AMES\n",
            "\n",
            " ============================== MLP ==============================\n",
            "repeated num # 3 idx 1 has the lowest loss\n",
            "******************** AMES ******************** \n",
            "\t|       acc      |       auc      |       ap      \n",
            "\t&0.800$\\pm$0.013  &0.862$\\pm$0.003  &0.866$\\pm$0.006  \n",
            " idx 1: &0.812            &0.865            &0.870            \n",
            "\n",
            "\n",
            " ============================== AttentiveFP ==============================\n",
            "repeated num # 3 idx 2 has the lowest loss\n",
            "******************** AMES ******************** \n",
            "\t|       acc      |       auc      |       ap      \n",
            "\t&0.807$\\pm$0.001  &0.877$\\pm$0.002  &0.890$\\pm$0.002  \n",
            " idx 2: &0.808            &0.880            &0.892            \n",
            "\n",
            "\n",
            " ============================== GIN ==============================\n",
            "repeated num # 3 idx 2 has the lowest loss\n",
            "******************** AMES ******************** \n",
            "\t|       acc      |       auc      |       ap      \n",
            "\t&0.811$\\pm$0.003  &0.888$\\pm$0.002  &0.901$\\pm$0.002  \n",
            " idx 2: &0.809            &0.887            &0.902            \n",
            "\n",
            "\n",
            " ============================== RNN ==============================\n",
            "repeated num # 3 idx 2 has the lowest loss\n",
            "******************** AMES ******************** \n",
            "\t|       acc      |       auc      |       ap      \n",
            "\t&0.766$\\pm$0.011  &0.833$\\pm$0.007  &0.841$\\pm$0.008  \n",
            " idx 2: &0.771            &0.838            &0.849            \n",
            "\n",
            "\n",
            "\n",
            "\n",
            "Evaluating :  LD50_Zhu\n",
            "\n",
            " ============================== MLP ==============================\n",
            "repeated num # 3 idx 0 has the lowest loss\n",
            "******************** LD50_Zhu ******************** \n",
            "\t|       mae      |       rmse      |       r2      \n",
            "\t&0.458$\\pm$0.002  &0.615$\\pm$0.003  &0.577$\\pm$0.004  \n",
            " idx 0: &0.456            &0.611            &0.582            \n",
            "\n",
            "\n",
            " ============================== AttentiveFP ==============================\n",
            "repeated num # 3 idx 0 has the lowest loss\n",
            "******************** LD50_Zhu ******************** \n",
            "\t|       mae      |       rmse      |       r2      \n",
            "\t&0.456$\\pm$0.006  &0.617$\\pm$0.006  &0.574$\\pm$0.009  \n",
            " idx 0: &0.449            &0.608            &0.586            \n",
            "\n",
            "\n",
            " ============================== GIN ==============================\n",
            "repeated num # 3 idx 0 has the lowest loss\n",
            "******************** LD50_Zhu ******************** \n",
            "\t|       mae      |       rmse      |       r2      \n",
            "\t&0.458$\\pm$0.043  &0.620$\\pm$0.047  &0.567$\\pm$0.067  \n",
            " idx 0: &0.424            &0.587            &0.615            \n",
            "\n",
            "\n",
            " ============================== RNN ==============================\n",
            "repeated num # 3 idx 0 has the lowest loss\n",
            "******************** LD50_Zhu ******************** \n",
            "\t|       mae      |       rmse      |       r2      \n",
            "\t&0.503$\\pm$0.007  &0.669$\\pm$0.009  &0.499$\\pm$0.014  \n",
            " idx 0: &0.494            &0.656            &0.519            \n",
            "\n",
            "\n",
            "\n",
            "\n"
          ]
        }
      ]
    },
    {
      "cell_type": "markdown",
      "source": [
        "# Multi task, without uncertainty training"
      ],
      "metadata": {
        "id": "uaL-KJ-lPBdM"
      }
    },
    {
      "cell_type": "code",
      "source": [
        "folder_name = f'T3/uw_no/'\n",
        "print('Multi task evaluation on different models, no uncertainty weight')\n",
        "for name in names_T3:\n",
        "    print('Evaluating : ', name)\n",
        "    for model_type in ['MLP', 'AttentiveFP', 'GIN', 'RNN']:\n",
        "        print('\\n','='*30, model_type, '='*30)\n",
        "        perfs = []\n",
        "        for i in range(3):\n",
        "            file_name = folder_name + model_type + '_MT_' + str(i) + '.yml'\n",
        "            p = yml_report(file_name, recalculate=False)\n",
        "            perfs.append(p)\n",
        "        eval_perf_list(perfs, name)\n",
        "    print('\\n\\n')"
      ],
      "metadata": {
        "colab": {
          "base_uri": "https://localhost:8080/"
        },
        "id": "NFEFIUj2PHSI",
        "outputId": "afc11c88-89aa-490a-f3f5-00f5654002c6"
      },
      "execution_count": 47,
      "outputs": [
        {
          "output_type": "stream",
          "name": "stdout",
          "text": [
            "Multi task evaluation on different models, no uncertainty weight\n",
            "Evaluating :  hERG_Karim\n",
            "\n",
            " ============================== MLP ==============================\n",
            "repeated num # 3 idx 1 has the lowest loss\n",
            "******************** hERG_Karim ******************** \n",
            "\t|       acc      |       auc      |       ap      \n",
            "\t&0.760$\\pm$0.004  &0.836$\\pm$0.004  &0.838$\\pm$0.004  \n",
            " idx 1: &0.765            &0.840            &0.842            \n",
            "\n",
            "\n",
            " ============================== AttentiveFP ==============================\n",
            "repeated num # 3 idx 2 has the lowest loss\n",
            "******************** hERG_Karim ******************** \n",
            "\t|       acc      |       auc      |       ap      \n",
            "\t&0.791$\\pm$0.009  &0.876$\\pm$0.010  &0.874$\\pm$0.011  \n",
            " idx 2: &0.778            &0.862            &0.859            \n",
            "\n",
            "\n",
            " ============================== GIN ==============================\n",
            "repeated num # 3 idx 2 has the lowest loss\n",
            "******************** hERG_Karim ******************** \n",
            "\t|       acc      |       auc      |       ap      \n",
            "\t&0.796$\\pm$0.003  &0.880$\\pm$0.002  &0.885$\\pm$0.003  \n",
            " idx 2: &0.800            &0.880            &0.884            \n",
            "\n",
            "\n",
            " ============================== RNN ==============================\n",
            "repeated num # 3 idx 2 has the lowest loss\n",
            "******************** hERG_Karim ******************** \n",
            "\t|       acc      |       auc      |       ap      \n",
            "\t&0.740$\\pm$0.010  &0.814$\\pm$0.007  &0.817$\\pm$0.006  \n",
            " idx 2: &0.741            &0.817            &0.823            \n",
            "\n",
            "\n",
            "\n",
            "\n",
            "Evaluating :  AMES\n",
            "\n",
            " ============================== MLP ==============================\n",
            "repeated num # 3 idx 1 has the lowest loss\n",
            "******************** AMES ******************** \n",
            "\t|       acc      |       auc      |       ap      \n",
            "\t&0.814$\\pm$0.004  &0.873$\\pm$0.004  &0.882$\\pm$0.002  \n",
            " idx 1: &0.817            &0.875            &0.885            \n",
            "\n",
            "\n",
            " ============================== AttentiveFP ==============================\n",
            "repeated num # 3 idx 2 has the lowest loss\n",
            "******************** AMES ******************** \n",
            "\t|       acc      |       auc      |       ap      \n",
            "\t&0.808$\\pm$0.010  &0.880$\\pm$0.002  &0.885$\\pm$0.004  \n",
            " idx 2: &0.814            &0.883            &0.881            \n",
            "\n",
            "\n",
            " ============================== GIN ==============================\n",
            "repeated num # 3 idx 2 has the lowest loss\n",
            "******************** AMES ******************** \n",
            "\t|       acc      |       auc      |       ap      \n",
            "\t&0.827$\\pm$0.006  &0.893$\\pm$0.000  &0.907$\\pm$0.000  \n",
            " idx 2: &0.830            &0.893            &0.907            \n",
            "\n",
            "\n",
            " ============================== RNN ==============================\n",
            "repeated num # 3 idx 2 has the lowest loss\n",
            "******************** AMES ******************** \n",
            "\t|       acc      |       auc      |       ap      \n",
            "\t&0.761$\\pm$0.014  &0.827$\\pm$0.015  &0.837$\\pm$0.014  \n",
            " idx 2: &0.780            &0.848            &0.856            \n",
            "\n",
            "\n",
            "\n",
            "\n",
            "Evaluating :  LD50_Zhu\n",
            "\n",
            " ============================== MLP ==============================\n",
            "repeated num # 3 idx 1 has the lowest loss\n",
            "******************** LD50_Zhu ******************** \n",
            "\t|       mae      |       rmse      |       r2      \n",
            "\t&0.625$\\pm$0.025  &0.815$\\pm$0.032  &0.255$\\pm$0.059  \n",
            " idx 1: &0.615            &0.806            &0.272            \n",
            "\n",
            "\n",
            " ============================== AttentiveFP ==============================\n",
            "repeated num # 3 idx 2 has the lowest loss\n",
            "******************** LD50_Zhu ******************** \n",
            "\t|       mae      |       rmse      |       r2      \n",
            "\t&0.545$\\pm$0.007  &0.723$\\pm$0.009  &0.415$\\pm$0.015  \n",
            " idx 2: &0.554            &0.736            &0.394            \n",
            "\n",
            "\n",
            " ============================== GIN ==============================\n",
            "repeated num # 3 idx 2 has the lowest loss\n",
            "******************** LD50_Zhu ******************** \n",
            "\t|       mae      |       rmse      |       r2      \n",
            "\t&0.647$\\pm$0.043  &0.846$\\pm$0.056  &0.196$\\pm$0.108  \n",
            " idx 2: &0.617            &0.808            &0.269            \n",
            "\n",
            "\n",
            " ============================== RNN ==============================\n",
            "repeated num # 3 idx 2 has the lowest loss\n",
            "******************** LD50_Zhu ******************** \n",
            "\t|       mae      |       rmse      |       r2      \n",
            "\t&0.664$\\pm$0.030  &0.863$\\pm$0.025  &0.165$\\pm$0.048  \n",
            " idx 2: &0.631            &0.832            &0.225            \n",
            "\n",
            "\n",
            "\n",
            "\n"
          ]
        }
      ]
    },
    {
      "cell_type": "markdown",
      "source": [
        "## Multitask with uncertainty training"
      ],
      "metadata": {
        "id": "yvBv2n9DPxyi"
      }
    },
    {
      "cell_type": "code",
      "source": [
        "folder_name = f'T3/uw/'\n",
        "print('Multi task evaluation on different models, WITH uncertainty weight')\n",
        "for name in names_T3:\n",
        "    print('Evaluating : ', name)\n",
        "    for model_type in ['MLP', 'AttentiveFP', 'GIN', 'RNN']:\n",
        "        print('\\n','='*30, model_type, '='*30)\n",
        "        perfs = []\n",
        "        for i in range(3):\n",
        "            file_name = folder_name + model_type + '_MT_' + str(i) + '.yml'\n",
        "            p = yml_report(file_name, recalculate=False)\n",
        "            perfs.append(p)\n",
        "        eval_perf_list(perfs, name)\n",
        "    print('\\n\\n')"
      ],
      "metadata": {
        "colab": {
          "base_uri": "https://localhost:8080/"
        },
        "id": "-eG6r_PHPx87",
        "outputId": "3f799dd9-bfb3-47e1-f3eb-9f4abcad7ea7"
      },
      "execution_count": 48,
      "outputs": [
        {
          "output_type": "stream",
          "name": "stdout",
          "text": [
            "Multi task evaluation on different models, WITH uncertainty weight\n",
            "Evaluating :  hERG_Karim\n",
            "\n",
            " ============================== MLP ==============================\n",
            "repeated num # 3 idx 1 has the lowest loss\n",
            "******************** hERG_Karim ******************** \n",
            "\t|       acc      |       auc      |       ap      \n",
            "\t&0.733$\\pm$0.020  &0.808$\\pm$0.018  &0.810$\\pm$0.018  \n",
            " idx 1: &0.719            &0.788            &0.790            \n",
            "\n",
            "\n",
            " ============================== AttentiveFP ==============================\n",
            "repeated num # 3 idx 2 has the lowest loss\n",
            "******************** hERG_Karim ******************** \n",
            "\t|       acc      |       auc      |       ap      \n",
            "\t&0.813$\\pm$0.001  &0.894$\\pm$0.001  &0.893$\\pm$0.002  \n",
            " idx 2: &0.812            &0.894            &0.890            \n",
            "\n",
            "\n",
            " ============================== GIN ==============================\n",
            "repeated num # 3 idx 0 has the lowest loss\n",
            "******************** hERG_Karim ******************** \n",
            "\t|       acc      |       auc      |       ap      \n",
            "\t&0.785$\\pm$0.006  &0.870$\\pm$0.005  &0.873$\\pm$0.007  \n",
            " idx 0: &0.776            &0.865            &0.866            \n",
            "\n",
            "\n",
            " ============================== RNN ==============================\n",
            "repeated num # 3 idx 0 has the lowest loss\n",
            "******************** hERG_Karim ******************** \n",
            "\t|       acc      |       auc      |       ap      \n",
            "\t&0.782$\\pm$0.004  &0.858$\\pm$0.003  &0.855$\\pm$0.007  \n",
            " idx 0: &0.779            &0.855            &0.856            \n",
            "\n",
            "\n",
            "\n",
            "\n",
            "Evaluating :  AMES\n",
            "\n",
            " ============================== MLP ==============================\n",
            "repeated num # 3 idx 1 has the lowest loss\n",
            "******************** AMES ******************** \n",
            "\t|       acc      |       auc      |       ap      \n",
            "\t&0.779$\\pm$0.028  &0.843$\\pm$0.023  &0.865$\\pm$0.014  \n",
            " idx 1: &0.745            &0.813            &0.848            \n",
            "\n",
            "\n",
            " ============================== AttentiveFP ==============================\n",
            "repeated num # 3 idx 2 has the lowest loss\n",
            "******************** AMES ******************** \n",
            "\t|       acc      |       auc      |       ap      \n",
            "\t&0.817$\\pm$0.005  &0.884$\\pm$0.004  &0.892$\\pm$0.002  \n",
            " idx 2: &0.819            &0.882            &0.891            \n",
            "\n",
            "\n",
            " ============================== GIN ==============================\n",
            "repeated num # 3 idx 0 has the lowest loss\n",
            "******************** AMES ******************** \n",
            "\t|       acc      |       auc      |       ap      \n",
            "\t&0.825$\\pm$0.008  &0.896$\\pm$0.003  &0.909$\\pm$0.001  \n",
            " idx 0: &0.815            &0.892            &0.907            \n",
            "\n",
            "\n",
            " ============================== RNN ==============================\n",
            "repeated num # 3 idx 0 has the lowest loss\n",
            "******************** AMES ******************** \n",
            "\t|       acc      |       auc      |       ap      \n",
            "\t&0.786$\\pm$0.002  &0.853$\\pm$0.006  &0.865$\\pm$0.005  \n",
            " idx 0: &0.786            &0.857            &0.863            \n",
            "\n",
            "\n",
            "\n",
            "\n",
            "Evaluating :  LD50_Zhu\n",
            "\n",
            " ============================== MLP ==============================\n",
            "repeated num # 3 idx 1 has the lowest loss\n",
            "******************** LD50_Zhu ******************** \n",
            "\t|       mae      |       rmse      |       r2      \n",
            "\t&0.493$\\pm$0.003  &0.672$\\pm$0.013  &0.495$\\pm$0.020  \n",
            " idx 1: &0.491            &0.661            &0.512            \n",
            "\n",
            "\n",
            " ============================== AttentiveFP ==============================\n",
            "repeated num # 3 idx 2 has the lowest loss\n",
            "******************** LD50_Zhu ******************** \n",
            "\t|       mae      |       rmse      |       r2      \n",
            "\t&0.445$\\pm$0.003  &0.601$\\pm$0.006  &0.595$\\pm$0.008  \n",
            " idx 2: &0.441            &0.593            &0.607            \n",
            "\n",
            "\n",
            " ============================== GIN ==============================\n",
            "repeated num # 3 idx 0 has the lowest loss\n",
            "******************** LD50_Zhu ******************** \n",
            "\t|       mae      |       rmse      |       r2      \n",
            "\t&0.434$\\pm$0.002  &0.594$\\pm$0.004  &0.605$\\pm$0.005  \n",
            " idx 0: &0.437            &0.599            &0.599            \n",
            "\n",
            "\n",
            " ============================== RNN ==============================\n",
            "repeated num # 3 idx 0 has the lowest loss\n",
            "******************** LD50_Zhu ******************** \n",
            "\t|       mae      |       rmse      |       r2      \n",
            "\t&0.535$\\pm$0.012  &0.714$\\pm$0.016  &0.428$\\pm$0.025  \n",
            " idx 0: &0.526            &0.706            &0.443            \n",
            "\n",
            "\n",
            "\n",
            "\n"
          ]
        }
      ]
    },
    {
      "cell_type": "markdown",
      "source": [
        "## MUE (ours)"
      ],
      "metadata": {
        "id": "3WDN8SfeRczw"
      }
    },
    {
      "cell_type": "code",
      "source": [
        "folder_name = f'T3/uw/'\n",
        "print('MUE')\n",
        "for name in names_T3:\n",
        "    print('Evaluating : ', name)\n",
        "    for model_type in ['MUE']:\n",
        "        print('\\n','='*30, model_type, '='*30)\n",
        "        perfs = []\n",
        "        for i in range(3):\n",
        "            file_name = folder_name + model_type + '_'+name+'_' + str(i) + '.yml'\n",
        "            p = yml_report(file_name, recalculate=False)\n",
        "            perfs.append(p)\n",
        "        eval_perf_list(perfs, name)\n",
        "    print('\\n\\n')"
      ],
      "metadata": {
        "colab": {
          "base_uri": "https://localhost:8080/"
        },
        "id": "FY43j_2oQb0_",
        "outputId": "55b43474-3acc-4c21-8be2-a203fc4c2a2b"
      },
      "execution_count": 49,
      "outputs": [
        {
          "output_type": "stream",
          "name": "stdout",
          "text": [
            "MUE\n",
            "Evaluating :  hERG_Karim\n",
            "\n",
            " ============================== MUE ==============================\n",
            "repeated num # 3 idx 1 has the lowest loss\n",
            "******************** hERG_Karim ******************** \n",
            "\t|       acc      |       auc      |       ap      \n",
            "\t&0.817$\\pm$0.004  &0.898$\\pm$0.002  &0.903$\\pm$0.002  \n",
            " idx 1: &0.821            &0.900            &0.904            \n",
            "\n",
            "\n",
            "\n",
            "\n",
            "Evaluating :  AMES\n",
            "\n",
            " ============================== MUE ==============================\n",
            "repeated num # 3 idx 2 has the lowest loss\n",
            "******************** AMES ******************** \n",
            "\t|       acc      |       auc      |       ap      \n",
            "\t&0.828$\\pm$0.003  &0.906$\\pm$0.002  &0.922$\\pm$0.000  \n",
            " idx 2: &0.832            &0.907            &0.923            \n",
            "\n",
            "\n",
            "\n",
            "\n",
            "Evaluating :  LD50_Zhu\n",
            "\n",
            " ============================== MUE ==============================\n",
            "repeated num # 3 idx 0 has the lowest loss\n",
            "******************** LD50_Zhu ******************** \n",
            "\t|       mae      |       rmse      |       r2      \n",
            "\t&0.403$\\pm$0.003  &0.547$\\pm$0.003  &0.665$\\pm$0.003  \n",
            " idx 0: &0.399            &0.543            &0.670            \n",
            "\n",
            "\n",
            "\n",
            "\n"
          ]
        }
      ]
    },
    {
      "cell_type": "code",
      "source": [],
      "metadata": {
        "id": "gLQozKTFR_2A"
      },
      "execution_count": null,
      "outputs": []
    }
  ]
}