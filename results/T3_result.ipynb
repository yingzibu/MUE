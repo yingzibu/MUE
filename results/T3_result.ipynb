{
  "nbformat": 4,
  "nbformat_minor": 0,
  "metadata": {
    "colab": {
      "provenance": [],
      "machine_shape": "hm",
      "gpuType": "T4",
      "mount_file_id": "1WF_vy547EYUaNgadoypg91uQ2bv3Mazx",
      "authorship_tag": "ABX9TyPUvIEwItjw/I21oxX7bibr"
    },
    "kernelspec": {
      "name": "python3",
      "display_name": "Python 3"
    },
    "language_info": {
      "name": "python"
    },
    "accelerator": "GPU"
  },
  "cells": [
    {
      "cell_type": "code",
      "execution_count": 1,
      "metadata": {
        "colab": {
          "base_uri": "https://localhost:8080/"
        },
        "id": "CBsjxv_rIVC-",
        "outputId": "f2e9a7bb-75b6-44c3-f425-319649861047"
      },
      "outputs": [
        {
          "output_type": "stream",
          "name": "stdout",
          "text": [
            "2.1.0+cu121\n",
            "cuda:  True\n"
          ]
        }
      ],
      "source": [
        "import torch\n",
        "print(torch.__version__)\n",
        "print('cuda: ', torch.cuda.is_available())\n",
        "\n",
        "# rdkit:  2022.09.5\n",
        "# dgl: 2.0.0+cu121"
      ]
    },
    {
      "cell_type": "code",
      "source": [
        "! pip install rdkit --quiet\n",
        "! pip install PyTDC --quiet\n",
        "! pip install mycolorpy --quiet\n",
        "! pip install selfies  --quiet\n",
        "! pip install pubchempy --quiet\n",
        "! pip install dgllife --quiet\n",
        "! pip install molvs --quiet\n",
        "! pip install dgl -f https://data.dgl.ai/wheels/cu121/repo.html --quiet\n",
        "! pip install dglgo -f https://data.dgl.ai/wheels-test/repo.html --quiet\n",
        "! pip install DeepPurpose --quiet\n",
        "! pip install git+https://github.com/bp-kelley/descriptastorus --quiet\n",
        "! pip install pandas-flavor --quiet"
      ],
      "metadata": {
        "colab": {
          "base_uri": "https://localhost:8080/"
        },
        "id": "hQIRS5s-IeAz",
        "outputId": "d629afc2-2bfd-4679-c0d2-f08a59e49ad7"
      },
      "execution_count": 2,
      "outputs": [
        {
          "output_type": "stream",
          "name": "stdout",
          "text": [
            "  Preparing metadata (setup.py) ... \u001b[?25l\u001b[?25hdone\n",
            "  Building wheel for descriptastorus (setup.py) ... \u001b[?25l\u001b[?25hdone\n"
          ]
        }
      ]
    },
    {
      "cell_type": "code",
      "source": [
        "cd /content/drive/MyDrive/ADMET"
      ],
      "metadata": {
        "colab": {
          "base_uri": "https://localhost:8080/"
        },
        "id": "qqASETh-If80",
        "outputId": "2856edca-1738-49ca-9e0f-2dd62f24ec78"
      },
      "execution_count": 3,
      "outputs": [
        {
          "output_type": "stream",
          "name": "stdout",
          "text": [
            "/content/drive/MyDrive/ADMET\n"
          ]
        }
      ]
    },
    {
      "cell_type": "code",
      "source": [
        "from scripts.func_utils import make_path, convert_with_qed_sa, get_min, \\\n",
        "                                plot_loss, plot_performance\n",
        "\n",
        "from scripts.eval_utils import *\n",
        "from scripts.preprocess_mols import *\n",
        "from scripts.model_architecture import *\n",
        "from scripts.dataset import *\n",
        "from scripts.train import *\n",
        "import yaml\n",
        "import pandas as pd\n",
        "from scripts.get_vocab import *\n",
        "\n",
        "from tdc.single_pred import ADME\n",
        "from tdc.single_pred import Tox\n",
        "from scripts.CONSTANT import *\n",
        "from scripts.yaml_utils import *\n",
        "\n",
        "from scripts.TRAIN import *\n",
        "\n",
        "print('VOCAB TYPE:', VOCAB_TYPE)\n"
      ],
      "metadata": {
        "colab": {
          "base_uri": "https://localhost:8080/"
        },
        "id": "eTaQRmFBIf_R",
        "outputId": "5649e05f-d9bb-42c5-a4de-0d351ee5a4a6"
      },
      "execution_count": 4,
      "outputs": [
        {
          "output_type": "stream",
          "name": "stderr",
          "text": [
            "DGL backend not selected or invalid.  Assuming PyTorch for now.\n"
          ]
        },
        {
          "output_type": "stream",
          "name": "stdout",
          "text": [
            "Setting the default backend to \"pytorch\". You can change it in the ~/.dgl/config.json file or export the DGLBACKEND environment variable.  Valid options are: pytorch, mxnet, tensorflow (all lowercase)\n",
            "VOCAB TYPE: smiles\n"
          ]
        }
      ]
    },
    {
      "cell_type": "code",
      "source": [
        "names_T3"
      ],
      "metadata": {
        "colab": {
          "base_uri": "https://localhost:8080/"
        },
        "id": "B6uuRqb8N8-G",
        "outputId": "57d09499-4531-4575-d3de-b7575486b81b"
      },
      "execution_count": 36,
      "outputs": [
        {
          "output_type": "execute_result",
          "data": {
            "text/plain": [
              "['hERG_Karim', 'AMES', 'LD50_Zhu']"
            ]
          },
          "metadata": {},
          "execution_count": 36
        }
      ]
    },
    {
      "cell_type": "markdown",
      "source": [
        "# Single task results for 3 toxicity tasks"
      ],
      "metadata": {
        "id": "5H4VAOafRWJ9"
      }
    },
    {
      "cell_type": "code",
      "source": [
        "print('single task evaluation on different models')\n",
        "for name in names_T3:\n",
        "    print('Evaluating : ', name)\n",
        "    folder_name = f'ST/{name}/'\n",
        "    for model_type in ['MLP', 'AttentiveFP', 'GIN', 'RNN']:\n",
        "        print('\\n','='*30, model_type, '='*30)\n",
        "        perfs = []\n",
        "        for i in range(3):\n",
        "            file_name = folder_name + model_type + '_ST_' + str(i) + '.yml'\n",
        "            p = yml_report(file_name, recalculate=False)\n",
        "            perfs.append(p)\n",
        "        eval_perf_list(perfs, name, metrics_dict={})\n",
        "    print('\\n\\n')"
      ],
      "metadata": {
        "colab": {
          "base_uri": "https://localhost:8080/"
        },
        "id": "hZ9w5XYpN_AC",
        "outputId": "ca12df97-660d-43e0-b2b4-3de91816f211"
      },
      "execution_count": 38,
      "outputs": [
        {
          "output_type": "stream",
          "name": "stdout",
          "text": [
            "single task evaluation on different models\n",
            "Evaluating :  hERG_Karim\n",
            "\n",
            " ============================== MLP ==============================\n",
            "repeated num # 3 idx 1 has the lowest loss\n",
            "******************** hERG_Karim ******************** \n",
            "\t|       acc      |       w_acc      |       prec      |       recall      |       sp      |       f1      |       auc      |       mcc      |       ap      \n",
            "\t&0.790$\\pm$0.003  &0.789$\\pm$0.003  &0.798$\\pm$0.004  &0.775$\\pm$0.002  &0.804$\\pm$0.004  &0.786$\\pm$0.003  &0.865$\\pm$0.002  &0.579$\\pm$0.006  &0.872$\\pm$0.003  \n",
            " idx 1: &0.793            &0.793            &0.802            &0.778            &0.808            &0.790            &0.867            &0.587            &0.876            \n",
            "\n",
            "\n",
            " ============================== AttentiveFP ==============================\n",
            "repeated num # 3 idx 0 has the lowest loss\n",
            "******************** hERG_Karim ******************** \n",
            "\t|       acc      |       w_acc      |       prec      |       recall      |       sp      |       f1      |       auc      |       mcc      |       ap      \n",
            "\t&0.814$\\pm$0.006  &0.814$\\pm$0.006  &0.833$\\pm$0.005  &0.785$\\pm$0.020  &0.843$\\pm$0.009  &0.808$\\pm$0.009  &0.894$\\pm$0.004  &0.629$\\pm$0.012  &0.894$\\pm$0.003  \n",
            " idx 0: &0.822            &0.822            &0.828            &0.813            &0.831            &0.820            &0.899            &0.645            &0.898            \n",
            "\n",
            "\n",
            " ============================== GIN ==============================\n",
            "repeated num # 3 idx 0 has the lowest loss\n",
            "******************** hERG_Karim ******************** \n",
            "\t|       acc      |       w_acc      |       prec      |       recall      |       sp      |       f1      |       auc      |       mcc      |       ap      \n",
            "\t&0.812$\\pm$0.001  &0.812$\\pm$0.001  &0.820$\\pm$0.003  &0.798$\\pm$0.005  &0.826$\\pm$0.005  &0.809$\\pm$0.002  &0.893$\\pm$0.002  &0.624$\\pm$0.002  &0.899$\\pm$0.001  \n",
            " idx 0: &0.813            &0.813            &0.817            &0.805            &0.820            &0.811            &0.895            &0.625            &0.901            \n",
            "\n",
            "\n",
            " ============================== RNN ==============================\n",
            "repeated num # 3 idx 1 has the lowest loss\n",
            "******************** hERG_Karim ******************** \n",
            "\t|       acc      |       w_acc      |       prec      |       recall      |       sp      |       f1      |       auc      |       mcc      |       ap      \n",
            "\t&0.765$\\pm$0.010  &0.765$\\pm$0.010  &0.790$\\pm$0.014  &0.724$\\pm$0.036  &0.807$\\pm$0.023  &0.754$\\pm$0.016  &0.847$\\pm$0.012  &0.533$\\pm$0.019  &0.848$\\pm$0.014  \n",
            " idx 1: &0.768            &0.768            &0.808            &0.702            &0.834            &0.751            &0.852            &0.540            &0.859            \n",
            "\n",
            "\n",
            "\n",
            "\n",
            "Evaluating :  AMES\n",
            "\n",
            " ============================== MLP ==============================\n",
            "repeated num # 3 idx 1 has the lowest loss\n",
            "******************** AMES ******************** \n",
            "\t|       acc      |       w_acc      |       prec      |       recall      |       sp      |       f1      |       auc      |       mcc      |       ap      \n",
            "\t&0.800$\\pm$0.013  &0.794$\\pm$0.016  &0.797$\\pm$0.027  &0.856$\\pm$0.021  &0.733$\\pm$0.053  &0.825$\\pm$0.006  &0.862$\\pm$0.003  &0.597$\\pm$0.024  &0.866$\\pm$0.006  \n",
            " idx 1: &0.812            &0.809            &0.820            &0.843            &0.775            &0.831            &0.865            &0.621            &0.870            \n",
            "\n",
            "\n",
            " ============================== AttentiveFP ==============================\n",
            "repeated num # 3 idx 2 has the lowest loss\n",
            "******************** AMES ******************** \n",
            "\t|       acc      |       w_acc      |       prec      |       recall      |       sp      |       f1      |       auc      |       mcc      |       ap      \n",
            "\t&0.807$\\pm$0.001  &0.804$\\pm$0.002  &0.821$\\pm$0.008  &0.828$\\pm$0.010  &0.781$\\pm$0.014  &0.824$\\pm$0.001  &0.877$\\pm$0.002  &0.609$\\pm$0.003  &0.890$\\pm$0.002  \n",
            " idx 2: &0.808            &0.807            &0.831            &0.815            &0.799            &0.823            &0.880            &0.613            &0.892            \n",
            "\n",
            "\n",
            " ============================== GIN ==============================\n",
            "repeated num # 3 idx 2 has the lowest loss\n",
            "******************** AMES ******************** \n",
            "\t|       acc      |       w_acc      |       prec      |       recall      |       sp      |       f1      |       auc      |       mcc      |       ap      \n",
            "\t&0.811$\\pm$0.003  &0.807$\\pm$0.003  &0.816$\\pm$0.002  &0.845$\\pm$0.005  &0.770$\\pm$0.004  &0.831$\\pm$0.003  &0.888$\\pm$0.002  &0.618$\\pm$0.006  &0.901$\\pm$0.002  \n",
            " idx 2: &0.809            &0.806            &0.817            &0.840            &0.772            &0.828            &0.887            &0.614            &0.902            \n",
            "\n",
            "\n",
            " ============================== RNN ==============================\n",
            "repeated num # 3 idx 2 has the lowest loss\n",
            "******************** AMES ******************** \n",
            "\t|       acc      |       w_acc      |       prec      |       recall      |       sp      |       f1      |       auc      |       mcc      |       ap      \n",
            "\t&0.766$\\pm$0.011  &0.758$\\pm$0.011  &0.759$\\pm$0.009  &0.838$\\pm$0.012  &0.678$\\pm$0.012  &0.797$\\pm$0.009  &0.833$\\pm$0.007  &0.525$\\pm$0.022  &0.841$\\pm$0.008  \n",
            " idx 2: &0.771            &0.764            &0.767            &0.837            &0.691            &0.800            &0.838            &0.537            &0.849            \n",
            "\n",
            "\n",
            "\n",
            "\n",
            "Evaluating :  LD50_Zhu\n",
            "\n",
            " ============================== MLP ==============================\n",
            "repeated num # 3 idx 0 has the lowest loss\n",
            "******************** LD50_Zhu ******************** \n",
            "\t|       mae      |       mse      |       rmse      |       r2      \n",
            "\t&0.458$\\pm$0.002  &0.378$\\pm$0.004  &0.615$\\pm$0.003  &0.577$\\pm$0.004  \n",
            " idx 0: &0.456            &0.374            &0.611            &0.582            \n",
            "\n",
            "\n",
            " ============================== AttentiveFP ==============================\n",
            "repeated num # 3 idx 0 has the lowest loss\n",
            "******************** LD50_Zhu ******************** \n",
            "\t|       mae      |       mse      |       rmse      |       r2      \n",
            "\t&0.456$\\pm$0.006  &0.380$\\pm$0.008  &0.617$\\pm$0.006  &0.574$\\pm$0.009  \n",
            " idx 0: &0.449            &0.370            &0.608            &0.586            \n",
            "\n",
            "\n",
            " ============================== GIN ==============================\n",
            "repeated num # 3 idx 0 has the lowest loss\n",
            "******************** LD50_Zhu ******************** \n",
            "\t|       mae      |       mse      |       rmse      |       r2      \n",
            "\t&0.458$\\pm$0.043  &0.387$\\pm$0.060  &0.620$\\pm$0.047  &0.567$\\pm$0.067  \n",
            " idx 0: &0.424            &0.344            &0.587            &0.615            \n",
            "\n",
            "\n",
            " ============================== RNN ==============================\n",
            "repeated num # 3 idx 0 has the lowest loss\n",
            "******************** LD50_Zhu ******************** \n",
            "\t|       mae      |       mse      |       rmse      |       r2      \n",
            "\t&0.503$\\pm$0.007  &0.447$\\pm$0.012  &0.669$\\pm$0.009  &0.499$\\pm$0.014  \n",
            " idx 0: &0.494            &0.430            &0.656            &0.519            \n",
            "\n",
            "\n",
            "\n",
            "\n"
          ]
        }
      ]
    },
    {
      "cell_type": "markdown",
      "source": [
        "# Multi task, without uncertainty training"
      ],
      "metadata": {
        "id": "uaL-KJ-lPBdM"
      }
    },
    {
      "cell_type": "code",
      "source": [
        "folder_name = f'T3/uw_no/'\n",
        "print('Multi task evaluation on different models, no uncertainty weight')\n",
        "for name in names_T3:\n",
        "    print('Evaluating : ', name)\n",
        "    for model_type in ['MLP', 'AttentiveFP', 'GIN', 'RNN']:\n",
        "        print('\\n','='*30, model_type, '='*30)\n",
        "        perfs = []\n",
        "        for i in range(3):\n",
        "            file_name = folder_name + model_type + '_MT_' + str(i) + '.yml'\n",
        "            p = yml_report(file_name, recalculate=False)\n",
        "            perfs.append(p)\n",
        "        eval_perf_list(perfs, name, metrics_dict={})"
      ],
      "metadata": {
        "colab": {
          "base_uri": "https://localhost:8080/"
        },
        "id": "NFEFIUj2PHSI",
        "outputId": "9a1347a9-4fca-4118-c480-4434335422df"
      },
      "execution_count": 40,
      "outputs": [
        {
          "output_type": "stream",
          "name": "stdout",
          "text": [
            "Multi task evaluation on different models, no uncertainty weight\n",
            "Evaluating :  hERG_Karim\n",
            "\n",
            " ============================== MLP ==============================\n",
            "repeated num # 3 idx 1 has the lowest loss\n",
            "******************** hERG_Karim ******************** \n",
            "\t|       acc      |       w_acc      |       prec      |       recall      |       sp      |       f1      |       auc      |       mcc      |       ap      \n",
            "\t&0.760$\\pm$0.004  &0.760$\\pm$0.004  &0.774$\\pm$0.011  &0.734$\\pm$0.008  &0.786$\\pm$0.015  &0.754$\\pm$0.002  &0.836$\\pm$0.004  &0.521$\\pm$0.009  &0.838$\\pm$0.004  \n",
            " idx 1: &0.765            &0.765            &0.789            &0.723            &0.807            &0.754            &0.840            &0.532            &0.842            \n",
            "\n",
            "\n",
            " ============================== AttentiveFP ==============================\n",
            "repeated num # 3 idx 2 has the lowest loss\n",
            "******************** hERG_Karim ******************** \n",
            "\t|       acc      |       w_acc      |       prec      |       recall      |       sp      |       f1      |       auc      |       mcc      |       ap      \n",
            "\t&0.791$\\pm$0.009  &0.790$\\pm$0.009  &0.796$\\pm$0.016  &0.781$\\pm$0.029  &0.800$\\pm$0.025  &0.788$\\pm$0.011  &0.876$\\pm$0.010  &0.582$\\pm$0.018  &0.874$\\pm$0.011  \n",
            " idx 2: &0.778            &0.778            &0.791            &0.756            &0.801            &0.773            &0.862            &0.557            &0.859            \n",
            "\n",
            "\n",
            " ============================== GIN ==============================\n",
            "repeated num # 3 idx 2 has the lowest loss\n",
            "******************** hERG_Karim ******************** \n",
            "\t|       acc      |       w_acc      |       prec      |       recall      |       sp      |       f1      |       auc      |       mcc      |       ap      \n",
            "\t&0.796$\\pm$0.003  &0.796$\\pm$0.003  &0.804$\\pm$0.003  &0.783$\\pm$0.010  &0.809$\\pm$0.006  &0.793$\\pm$0.005  &0.880$\\pm$0.002  &0.592$\\pm$0.007  &0.885$\\pm$0.003  \n",
            " idx 2: &0.800            &0.800            &0.807            &0.789            &0.811            &0.797            &0.880            &0.600            &0.884            \n",
            "\n",
            "\n",
            " ============================== RNN ==============================\n",
            "repeated num # 3 idx 2 has the lowest loss\n",
            "******************** hERG_Karim ******************** \n",
            "\t|       acc      |       w_acc      |       prec      |       recall      |       sp      |       f1      |       auc      |       mcc      |       ap      \n",
            "\t&0.740$\\pm$0.010  &0.740$\\pm$0.010  &0.779$\\pm$0.007  &0.669$\\pm$0.018  &0.811$\\pm$0.003  &0.720$\\pm$0.013  &0.814$\\pm$0.007  &0.485$\\pm$0.019  &0.817$\\pm$0.006  \n",
            " idx 2: &0.741            &0.741            &0.778            &0.674            &0.808            &0.722            &0.817            &0.487            &0.823            \n",
            "\n",
            "Evaluating :  AMES\n",
            "\n",
            " ============================== MLP ==============================\n",
            "repeated num # 3 idx 1 has the lowest loss\n",
            "******************** AMES ******************** \n",
            "\t|       acc      |       w_acc      |       prec      |       recall      |       sp      |       f1      |       auc      |       mcc      |       ap      \n",
            "\t&0.814$\\pm$0.004  &0.814$\\pm$0.003  &0.837$\\pm$0.004  &0.821$\\pm$0.010  &0.806$\\pm$0.007  &0.829$\\pm$0.004  &0.873$\\pm$0.004  &0.626$\\pm$0.007  &0.882$\\pm$0.002  \n",
            " idx 1: &0.817            &0.815            &0.833            &0.835            &0.796            &0.834            &0.875            &0.631            &0.885            \n",
            "\n",
            "\n",
            " ============================== AttentiveFP ==============================\n",
            "repeated num # 3 idx 2 has the lowest loss\n",
            "******************** AMES ******************** \n",
            "\t|       acc      |       w_acc      |       prec      |       recall      |       sp      |       f1      |       auc      |       mcc      |       ap      \n",
            "\t&0.808$\\pm$0.010  &0.806$\\pm$0.007  &0.824$\\pm$0.008  &0.825$\\pm$0.034  &0.786$\\pm$0.021  &0.824$\\pm$0.014  &0.880$\\pm$0.002  &0.613$\\pm$0.017  &0.885$\\pm$0.004  \n",
            " idx 2: &0.814            &0.810            &0.816            &0.853            &0.766            &0.834            &0.883            &0.623            &0.881            \n",
            "\n",
            "\n",
            " ============================== GIN ==============================\n",
            "repeated num # 3 idx 2 has the lowest loss\n",
            "******************** AMES ******************** \n",
            "\t|       acc      |       w_acc      |       prec      |       recall      |       sp      |       f1      |       auc      |       mcc      |       ap      \n",
            "\t&0.827$\\pm$0.006  &0.825$\\pm$0.006  &0.839$\\pm$0.006  &0.847$\\pm$0.009  &0.802$\\pm$0.009  &0.843$\\pm$0.006  &0.893$\\pm$0.000  &0.650$\\pm$0.012  &0.907$\\pm$0.000  \n",
            " idx 2: &0.830            &0.827            &0.835            &0.858            &0.795            &0.847            &0.893            &0.655            &0.907            \n",
            "\n",
            "\n",
            " ============================== RNN ==============================\n",
            "repeated num # 3 idx 2 has the lowest loss\n",
            "******************** AMES ******************** \n",
            "\t|       acc      |       w_acc      |       prec      |       recall      |       sp      |       f1      |       auc      |       mcc      |       ap      \n",
            "\t&0.761$\\pm$0.014  &0.760$\\pm$0.014  &0.787$\\pm$0.014  &0.774$\\pm$0.013  &0.745$\\pm$0.018  &0.780$\\pm$0.013  &0.827$\\pm$0.015  &0.519$\\pm$0.029  &0.837$\\pm$0.014  \n",
            " idx 2: &0.780            &0.779            &0.806            &0.788            &0.771            &0.797            &0.848            &0.558            &0.856            \n",
            "\n",
            "Evaluating :  LD50_Zhu\n",
            "\n",
            " ============================== MLP ==============================\n",
            "repeated num # 3 idx 1 has the lowest loss\n",
            "******************** LD50_Zhu ******************** \n",
            "\t|       mae      |       mse      |       rmse      |       r2      \n",
            "\t&0.625$\\pm$0.025  &0.666$\\pm$0.053  &0.815$\\pm$0.032  &0.255$\\pm$0.059  \n",
            " idx 1: &0.615            &0.650            &0.806            &0.272            \n",
            "\n",
            "\n",
            " ============================== AttentiveFP ==============================\n",
            "repeated num # 3 idx 2 has the lowest loss\n",
            "******************** LD50_Zhu ******************** \n",
            "\t|       mae      |       mse      |       rmse      |       r2      \n",
            "\t&0.545$\\pm$0.007  &0.523$\\pm$0.014  &0.723$\\pm$0.009  &0.415$\\pm$0.015  \n",
            " idx 2: &0.554            &0.541            &0.736            &0.394            \n",
            "\n",
            "\n",
            " ============================== GIN ==============================\n",
            "repeated num # 3 idx 2 has the lowest loss\n",
            "******************** LD50_Zhu ******************** \n",
            "\t|       mae      |       mse      |       rmse      |       r2      \n",
            "\t&0.647$\\pm$0.043  &0.719$\\pm$0.097  &0.846$\\pm$0.056  &0.196$\\pm$0.108  \n",
            " idx 2: &0.617            &0.654            &0.808            &0.269            \n",
            "\n",
            "\n",
            " ============================== RNN ==============================\n",
            "repeated num # 3 idx 2 has the lowest loss\n",
            "******************** LD50_Zhu ******************** \n",
            "\t|       mae      |       mse      |       rmse      |       r2      \n",
            "\t&0.664$\\pm$0.030  &0.746$\\pm$0.043  &0.863$\\pm$0.025  &0.165$\\pm$0.048  \n",
            " idx 2: &0.631            &0.692            &0.832            &0.225            \n",
            "\n"
          ]
        }
      ]
    },
    {
      "cell_type": "markdown",
      "source": [
        "## Multitask with uncertainty training"
      ],
      "metadata": {
        "id": "yvBv2n9DPxyi"
      }
    },
    {
      "cell_type": "code",
      "source": [
        "folder_name = f'T3/uw/'\n",
        "print('Multi task evaluation on different models, WITH uncertainty weight')\n",
        "for name in names_T3:\n",
        "    print('Evaluating : ', name)\n",
        "    for model_type in ['MLP', 'AttentiveFP', 'GIN', 'RNN']:\n",
        "        print('\\n','='*30, model_type, '='*30)\n",
        "        perfs = []\n",
        "        for i in range(3):\n",
        "            file_name = folder_name + model_type + '_MT_' + str(i) + '.yml'\n",
        "            p = yml_report(file_name, recalculate=False)\n",
        "            perfs.append(p)\n",
        "        eval_perf_list(perfs, name, metrics_dict={})\n",
        "    print('\\n\\n')"
      ],
      "metadata": {
        "colab": {
          "base_uri": "https://localhost:8080/"
        },
        "id": "-eG6r_PHPx87",
        "outputId": "fff99716-fc0e-471c-b586-eca7b94de50a"
      },
      "execution_count": 42,
      "outputs": [
        {
          "output_type": "stream",
          "name": "stdout",
          "text": [
            "Multi task evaluation on different models, WITH uncertainty weight\n",
            "Evaluating :  hERG_Karim\n",
            "\n",
            " ============================== MLP ==============================\n",
            "repeated num # 3 idx 1 has the lowest loss\n",
            "******************** hERG_Karim ******************** \n",
            "\t|       acc      |       w_acc      |       prec      |       recall      |       sp      |       f1      |       auc      |       mcc      |       ap      \n",
            "\t&0.733$\\pm$0.020  &0.733$\\pm$0.020  &0.724$\\pm$0.029  &0.756$\\pm$0.018  &0.711$\\pm$0.043  &0.739$\\pm$0.015  &0.808$\\pm$0.018  &0.468$\\pm$0.039  &0.810$\\pm$0.018  \n",
            " idx 1: &0.719            &0.719            &0.713            &0.733            &0.705            &0.723            &0.788            &0.439            &0.790            \n",
            "\n",
            "\n",
            " ============================== AttentiveFP ==============================\n",
            "repeated num # 3 idx 2 has the lowest loss\n",
            "******************** hERG_Karim ******************** \n",
            "\t|       acc      |       w_acc      |       prec      |       recall      |       sp      |       f1      |       auc      |       mcc      |       ap      \n",
            "\t&0.813$\\pm$0.001  &0.813$\\pm$0.001  &0.806$\\pm$0.025  &0.827$\\pm$0.038  &0.800$\\pm$0.039  &0.815$\\pm$0.006  &0.894$\\pm$0.001  &0.628$\\pm$0.001  &0.893$\\pm$0.002  \n",
            " idx 2: &0.812            &0.812            &0.783            &0.862            &0.762            &0.821            &0.894            &0.627            &0.890            \n",
            "\n",
            "\n",
            " ============================== GIN ==============================\n",
            "repeated num # 3 idx 0 has the lowest loss\n",
            "******************** hERG_Karim ******************** \n",
            "\t|       acc      |       w_acc      |       prec      |       recall      |       sp      |       f1      |       auc      |       mcc      |       ap      \n",
            "\t&0.785$\\pm$0.006  &0.785$\\pm$0.006  &0.783$\\pm$0.014  &0.789$\\pm$0.009  &0.782$\\pm$0.021  &0.786$\\pm$0.003  &0.870$\\pm$0.005  &0.571$\\pm$0.012  &0.873$\\pm$0.007  \n",
            " idx 0: &0.776            &0.777            &0.763            &0.800            &0.753            &0.782            &0.865            &0.554            &0.866            \n",
            "\n",
            "\n",
            " ============================== RNN ==============================\n",
            "repeated num # 3 idx 0 has the lowest loss\n",
            "******************** hERG_Karim ******************** \n",
            "\t|       acc      |       w_acc      |       prec      |       recall      |       sp      |       f1      |       auc      |       mcc      |       ap      \n",
            "\t&0.782$\\pm$0.004  &0.782$\\pm$0.004  &0.781$\\pm$0.021  &0.786$\\pm$0.032  &0.778$\\pm$0.037  &0.782$\\pm$0.006  &0.858$\\pm$0.003  &0.565$\\pm$0.008  &0.855$\\pm$0.007  \n",
            " idx 0: &0.779            &0.779            &0.789            &0.761            &0.797            &0.775            &0.855            &0.559            &0.856            \n",
            "\n",
            "\n",
            "\n",
            "\n",
            "Evaluating :  AMES\n",
            "\n",
            " ============================== MLP ==============================\n",
            "repeated num # 3 idx 1 has the lowest loss\n",
            "******************** AMES ******************** \n",
            "\t|       acc      |       w_acc      |       prec      |       recall      |       sp      |       f1      |       auc      |       mcc      |       ap      \n",
            "\t&0.779$\\pm$0.028  &0.779$\\pm$0.028  &0.808$\\pm$0.026  &0.783$\\pm$0.036  &0.775$\\pm$0.033  &0.795$\\pm$0.028  &0.843$\\pm$0.023  &0.557$\\pm$0.056  &0.865$\\pm$0.014  \n",
            " idx 1: &0.745            &0.746            &0.787            &0.732            &0.760            &0.758            &0.813            &0.490            &0.848            \n",
            "\n",
            "\n",
            " ============================== AttentiveFP ==============================\n",
            "repeated num # 3 idx 2 has the lowest loss\n",
            "******************** AMES ******************** \n",
            "\t|       acc      |       w_acc      |       prec      |       recall      |       sp      |       f1      |       auc      |       mcc      |       ap      \n",
            "\t&0.817$\\pm$0.005  &0.815$\\pm$0.006  &0.835$\\pm$0.015  &0.831$\\pm$0.020  &0.799$\\pm$0.026  &0.832$\\pm$0.006  &0.884$\\pm$0.004  &0.631$\\pm$0.012  &0.892$\\pm$0.002  \n",
            " idx 2: &0.819            &0.815            &0.820            &0.858            &0.772            &0.839            &0.882            &0.634            &0.891            \n",
            "\n",
            "\n",
            " ============================== GIN ==============================\n",
            "repeated num # 3 idx 0 has the lowest loss\n",
            "******************** AMES ******************** \n",
            "\t|       acc      |       w_acc      |       prec      |       recall      |       sp      |       f1      |       auc      |       mcc      |       ap      \n",
            "\t&0.825$\\pm$0.008  &0.823$\\pm$0.008  &0.837$\\pm$0.010  &0.846$\\pm$0.009  &0.799$\\pm$0.016  &0.841$\\pm$0.007  &0.896$\\pm$0.003  &0.646$\\pm$0.015  &0.909$\\pm$0.001  \n",
            " idx 0: &0.815            &0.811            &0.823            &0.843            &0.780            &0.833            &0.892            &0.625            &0.907            \n",
            "\n",
            "\n",
            " ============================== RNN ==============================\n",
            "repeated num # 3 idx 0 has the lowest loss\n",
            "******************** AMES ******************** \n",
            "\t|       acc      |       w_acc      |       prec      |       recall      |       sp      |       f1      |       auc      |       mcc      |       ap      \n",
            "\t&0.786$\\pm$0.002  &0.784$\\pm$0.003  &0.808$\\pm$0.009  &0.800$\\pm$0.010  &0.768$\\pm$0.015  &0.804$\\pm$0.001  &0.853$\\pm$0.006  &0.568$\\pm$0.005  &0.865$\\pm$0.005  \n",
            " idx 0: &0.786            &0.783            &0.802            &0.808            &0.758            &0.805            &0.857            &0.567            &0.863            \n",
            "\n",
            "\n",
            "\n",
            "\n",
            "Evaluating :  LD50_Zhu\n",
            "\n",
            " ============================== MLP ==============================\n",
            "repeated num # 3 idx 1 has the lowest loss\n",
            "******************** LD50_Zhu ******************** \n",
            "\t|       mae      |       mse      |       rmse      |       r2      \n",
            "\t&0.493$\\pm$0.003  &0.451$\\pm$0.018  &0.672$\\pm$0.013  &0.495$\\pm$0.020  \n",
            " idx 1: &0.491            &0.436            &0.661            &0.512            \n",
            "\n",
            "\n",
            " ============================== AttentiveFP ==============================\n",
            "repeated num # 3 idx 2 has the lowest loss\n",
            "******************** LD50_Zhu ******************** \n",
            "\t|       mae      |       mse      |       rmse      |       r2      \n",
            "\t&0.445$\\pm$0.003  &0.362$\\pm$0.007  &0.601$\\pm$0.006  &0.595$\\pm$0.008  \n",
            " idx 2: &0.441            &0.352            &0.593            &0.607            \n",
            "\n",
            "\n",
            " ============================== GIN ==============================\n",
            "repeated num # 3 idx 0 has the lowest loss\n",
            "******************** LD50_Zhu ******************** \n",
            "\t|       mae      |       mse      |       rmse      |       r2      \n",
            "\t&0.434$\\pm$0.002  &0.353$\\pm$0.004  &0.594$\\pm$0.004  &0.605$\\pm$0.005  \n",
            " idx 0: &0.437            &0.359            &0.599            &0.599            \n",
            "\n",
            "\n",
            " ============================== RNN ==============================\n",
            "repeated num # 3 idx 0 has the lowest loss\n",
            "******************** LD50_Zhu ******************** \n",
            "\t|       mae      |       mse      |       rmse      |       r2      \n",
            "\t&0.535$\\pm$0.012  &0.511$\\pm$0.022  &0.714$\\pm$0.016  &0.428$\\pm$0.025  \n",
            " idx 0: &0.526            &0.498            &0.706            &0.443            \n",
            "\n",
            "\n",
            "\n",
            "\n"
          ]
        }
      ]
    },
    {
      "cell_type": "markdown",
      "source": [
        "## MUE (ours)"
      ],
      "metadata": {
        "id": "3WDN8SfeRczw"
      }
    },
    {
      "cell_type": "code",
      "source": [
        "folder_name = f'T3/uw/'\n",
        "print('MUE')\n",
        "for name in names_T3:\n",
        "    print('Evaluating : ', name)\n",
        "    for model_type in ['MUE']:\n",
        "        print('\\n','='*30, model_type, '='*30)\n",
        "        perfs = []\n",
        "        for i in range(3):\n",
        "            file_name = folder_name + model_type + '_'+name+'_' + str(i) + '.yml'\n",
        "            p = yml_report(file_name, recalculate=False)\n",
        "            perfs.append(p)\n",
        "        eval_perf_list(perfs, name, metrics_dict={})\n",
        "    print('\\n\\n')"
      ],
      "metadata": {
        "colab": {
          "base_uri": "https://localhost:8080/"
        },
        "id": "FY43j_2oQb0_",
        "outputId": "eff3fe85-3910-4510-bb6f-5d9717851c39"
      },
      "execution_count": 44,
      "outputs": [
        {
          "output_type": "stream",
          "name": "stdout",
          "text": [
            "MUE\n",
            "Evaluating :  hERG_Karim\n",
            "\n",
            " ============================== MUE ==============================\n",
            "repeated num # 3 idx 1 has the lowest loss\n",
            "******************** hERG_Karim ******************** \n",
            "\t|       acc      |       w_acc      |       prec      |       recall      |       sp      |       f1      |       auc      |       mcc      |       ap      \n",
            "\t&0.817$\\pm$0.004  &0.817$\\pm$0.004  &0.814$\\pm$0.004  &0.822$\\pm$0.004  &0.813$\\pm$0.005  &0.818$\\pm$0.004  &0.898$\\pm$0.002  &0.634$\\pm$0.007  &0.903$\\pm$0.002  \n",
            " idx 1: &0.821            &0.821            &0.816            &0.828            &0.814            &0.822            &0.900            &0.642            &0.904            \n",
            "\n",
            "\n",
            "\n",
            "\n",
            "Evaluating :  AMES\n",
            "\n",
            " ============================== MUE ==============================\n",
            "repeated num # 3 idx 2 has the lowest loss\n",
            "******************** AMES ******************** \n",
            "\t|       acc      |       w_acc      |       prec      |       recall      |       sp      |       f1      |       auc      |       mcc      |       ap      \n",
            "\t&0.828$\\pm$0.003  &0.824$\\pm$0.003  &0.829$\\pm$0.005  &0.864$\\pm$0.001  &0.784$\\pm$0.007  &0.846$\\pm$0.002  &0.906$\\pm$0.002  &0.652$\\pm$0.006  &0.922$\\pm$0.000  \n",
            " idx 2: &0.832            &0.828            &0.835            &0.863            &0.793            &0.849            &0.907            &0.660            &0.923            \n",
            "\n",
            "\n",
            "\n",
            "\n",
            "Evaluating :  LD50_Zhu\n",
            "\n",
            " ============================== MUE ==============================\n",
            "repeated num # 3 idx 0 has the lowest loss\n",
            "******************** LD50_Zhu ******************** \n",
            "\t|       mae      |       mse      |       rmse      |       r2      \n",
            "\t&0.403$\\pm$0.003  &0.299$\\pm$0.003  &0.547$\\pm$0.003  &0.665$\\pm$0.003  \n",
            " idx 0: &0.399            &0.295            &0.543            &0.670            \n",
            "\n",
            "\n",
            "\n",
            "\n"
          ]
        }
      ]
    }
  ]
}